{
 "cells": [
  {
   "cell_type": "code",
   "execution_count": 1,
   "metadata": {},
   "outputs": [],
   "source": [
    "# % matplot inline\n",
    "import numpy as np\n",
    "import pandas as pd\n",
    "from sklearn.linear_model import LogisticRegression as LR"
   ]
  },
  {
   "cell_type": "code",
   "execution_count": 2,
   "metadata": {},
   "outputs": [
    {
     "data": {
      "text/html": [
       "<div>\n",
       "<style scoped>\n",
       "    .dataframe tbody tr th:only-of-type {\n",
       "        vertical-align: middle;\n",
       "    }\n",
       "\n",
       "    .dataframe tbody tr th {\n",
       "        vertical-align: top;\n",
       "    }\n",
       "\n",
       "    .dataframe thead th {\n",
       "        text-align: right;\n",
       "    }\n",
       "</style>\n",
       "<table border=\"1\" class=\"dataframe\">\n",
       "  <thead>\n",
       "    <tr style=\"text-align: right;\">\n",
       "      <th></th>\n",
       "      <th>SeriousDlqin2yrs</th>\n",
       "      <th>RevolvingUtilizationOfUnsecuredLines</th>\n",
       "      <th>age</th>\n",
       "      <th>NumberOfTime30-59DaysPastDueNotWorse</th>\n",
       "      <th>DebtRatio</th>\n",
       "      <th>MonthlyIncome</th>\n",
       "      <th>NumberOfOpenCreditLinesAndLoans</th>\n",
       "      <th>NumberOfTimes90DaysLate</th>\n",
       "      <th>NumberRealEstateLoansOrLines</th>\n",
       "      <th>NumberOfTime60-89DaysPastDueNotWorse</th>\n",
       "      <th>NumberOfDependents</th>\n",
       "    </tr>\n",
       "  </thead>\n",
       "  <tbody>\n",
       "    <tr>\n",
       "      <th>0</th>\n",
       "      <td>1</td>\n",
       "      <td>0.766127</td>\n",
       "      <td>45</td>\n",
       "      <td>2</td>\n",
       "      <td>0.802982</td>\n",
       "      <td>9120.0</td>\n",
       "      <td>13</td>\n",
       "      <td>0</td>\n",
       "      <td>6</td>\n",
       "      <td>0</td>\n",
       "      <td>2.0</td>\n",
       "    </tr>\n",
       "    <tr>\n",
       "      <th>1</th>\n",
       "      <td>0</td>\n",
       "      <td>0.957151</td>\n",
       "      <td>40</td>\n",
       "      <td>0</td>\n",
       "      <td>0.121876</td>\n",
       "      <td>2600.0</td>\n",
       "      <td>4</td>\n",
       "      <td>0</td>\n",
       "      <td>0</td>\n",
       "      <td>0</td>\n",
       "      <td>1.0</td>\n",
       "    </tr>\n",
       "    <tr>\n",
       "      <th>2</th>\n",
       "      <td>0</td>\n",
       "      <td>0.658180</td>\n",
       "      <td>38</td>\n",
       "      <td>1</td>\n",
       "      <td>0.085113</td>\n",
       "      <td>3042.0</td>\n",
       "      <td>2</td>\n",
       "      <td>1</td>\n",
       "      <td>0</td>\n",
       "      <td>0</td>\n",
       "      <td>0.0</td>\n",
       "    </tr>\n",
       "    <tr>\n",
       "      <th>3</th>\n",
       "      <td>0</td>\n",
       "      <td>0.233810</td>\n",
       "      <td>30</td>\n",
       "      <td>0</td>\n",
       "      <td>0.036050</td>\n",
       "      <td>3300.0</td>\n",
       "      <td>5</td>\n",
       "      <td>0</td>\n",
       "      <td>0</td>\n",
       "      <td>0</td>\n",
       "      <td>0.0</td>\n",
       "    </tr>\n",
       "    <tr>\n",
       "      <th>4</th>\n",
       "      <td>0</td>\n",
       "      <td>0.907239</td>\n",
       "      <td>49</td>\n",
       "      <td>1</td>\n",
       "      <td>0.024926</td>\n",
       "      <td>63588.0</td>\n",
       "      <td>7</td>\n",
       "      <td>0</td>\n",
       "      <td>1</td>\n",
       "      <td>0</td>\n",
       "      <td>0.0</td>\n",
       "    </tr>\n",
       "  </tbody>\n",
       "</table>\n",
       "</div>"
      ],
      "text/plain": [
       "   SeriousDlqin2yrs  RevolvingUtilizationOfUnsecuredLines  age  \\\n",
       "0                 1                              0.766127   45   \n",
       "1                 0                              0.957151   40   \n",
       "2                 0                              0.658180   38   \n",
       "3                 0                              0.233810   30   \n",
       "4                 0                              0.907239   49   \n",
       "\n",
       "   NumberOfTime30-59DaysPastDueNotWorse  DebtRatio  MonthlyIncome  \\\n",
       "0                                     2   0.802982         9120.0   \n",
       "1                                     0   0.121876         2600.0   \n",
       "2                                     1   0.085113         3042.0   \n",
       "3                                     0   0.036050         3300.0   \n",
       "4                                     1   0.024926        63588.0   \n",
       "\n",
       "   NumberOfOpenCreditLinesAndLoans  NumberOfTimes90DaysLate  \\\n",
       "0                               13                        0   \n",
       "1                                4                        0   \n",
       "2                                2                        1   \n",
       "3                                5                        0   \n",
       "4                                7                        0   \n",
       "\n",
       "   NumberRealEstateLoansOrLines  NumberOfTime60-89DaysPastDueNotWorse  \\\n",
       "0                             6                                     0   \n",
       "1                             0                                     0   \n",
       "2                             0                                     0   \n",
       "3                             0                                     0   \n",
       "4                             1                                     0   \n",
       "\n",
       "   NumberOfDependents  \n",
       "0                 2.0  \n",
       "1                 1.0  \n",
       "2                 0.0  \n",
       "3                 0.0  \n",
       "4                 0.0  "
      ]
     },
     "execution_count": 2,
     "metadata": {},
     "output_type": "execute_result"
    }
   ],
   "source": [
    "data = pd.read_csv(r'/Users/matlida/Downloads/cs-training.csv')\n",
    "data.head()"
   ]
  },
  {
   "cell_type": "code",
   "execution_count": 3,
   "metadata": {},
   "outputs": [
    {
     "name": "stdout",
     "output_type": "stream",
     "text": [
      "<class 'pandas.core.frame.DataFrame'>\n",
      "RangeIndex: 150000 entries, 0 to 149999\n",
      "Data columns (total 11 columns):\n",
      " #   Column                                Non-Null Count   Dtype  \n",
      "---  ------                                --------------   -----  \n",
      " 0   SeriousDlqin2yrs                      150000 non-null  int64  \n",
      " 1   RevolvingUtilizationOfUnsecuredLines  150000 non-null  float64\n",
      " 2   age                                   150000 non-null  int64  \n",
      " 3   NumberOfTime30-59DaysPastDueNotWorse  150000 non-null  int64  \n",
      " 4   DebtRatio                             150000 non-null  float64\n",
      " 5   MonthlyIncome                         120269 non-null  float64\n",
      " 6   NumberOfOpenCreditLinesAndLoans       150000 non-null  int64  \n",
      " 7   NumberOfTimes90DaysLate               150000 non-null  int64  \n",
      " 8   NumberRealEstateLoansOrLines          150000 non-null  int64  \n",
      " 9   NumberOfTime60-89DaysPastDueNotWorse  150000 non-null  int64  \n",
      " 10  NumberOfDependents                    146076 non-null  float64\n",
      "dtypes: float64(4), int64(7)\n",
      "memory usage: 12.6 MB\n"
     ]
    }
   ],
   "source": [
    "data.info()"
   ]
  },
  {
   "cell_type": "code",
   "execution_count": 4,
   "metadata": {},
   "outputs": [
    {
     "name": "stdout",
     "output_type": "stream",
     "text": [
      "<class 'pandas.core.frame.DataFrame'>\n",
      "RangeIndex: 149391 entries, 0 to 149390\n",
      "Data columns (total 11 columns):\n",
      " #   Column                                Non-Null Count   Dtype  \n",
      "---  ------                                --------------   -----  \n",
      " 0   SeriousDlqin2yrs                      149391 non-null  int64  \n",
      " 1   RevolvingUtilizationOfUnsecuredLines  149391 non-null  float64\n",
      " 2   age                                   149391 non-null  int64  \n",
      " 3   NumberOfTime30-59DaysPastDueNotWorse  149391 non-null  int64  \n",
      " 4   DebtRatio                             149391 non-null  float64\n",
      " 5   MonthlyIncome                         120170 non-null  float64\n",
      " 6   NumberOfOpenCreditLinesAndLoans       149391 non-null  int64  \n",
      " 7   NumberOfTimes90DaysLate               149391 non-null  int64  \n",
      " 8   NumberRealEstateLoansOrLines          149391 non-null  int64  \n",
      " 9   NumberOfTime60-89DaysPastDueNotWorse  149391 non-null  int64  \n",
      " 10  NumberOfDependents                    145563 non-null  float64\n",
      "dtypes: float64(4), int64(7)\n",
      "memory usage: 12.5 MB\n"
     ]
    }
   ],
   "source": [
    "data.drop_duplicates(inplace=True)\n",
    "data.index=range(data.shape[0])\n",
    "data.info()"
   ]
  },
  {
   "cell_type": "code",
   "execution_count": 5,
   "metadata": {},
   "outputs": [
    {
     "data": {
      "text/plain": [
       "SeriousDlqin2yrs                        0.000000\n",
       "RevolvingUtilizationOfUnsecuredLines    0.000000\n",
       "age                                     0.000000\n",
       "NumberOfTime30-59DaysPastDueNotWorse    0.000000\n",
       "DebtRatio                               0.000000\n",
       "MonthlyIncome                           0.195601\n",
       "NumberOfOpenCreditLinesAndLoans         0.000000\n",
       "NumberOfTimes90DaysLate                 0.000000\n",
       "NumberRealEstateLoansOrLines            0.000000\n",
       "NumberOfTime60-89DaysPastDueNotWorse    0.000000\n",
       "NumberOfDependents                      0.025624\n",
       "dtype: float64"
      ]
     },
     "execution_count": 5,
     "metadata": {},
     "output_type": "execute_result"
    }
   ],
   "source": [
    "data.isnull().sum()/data.shape[0]\n",
    "data.isnull().mean()"
   ]
  },
  {
   "cell_type": "code",
   "execution_count": 6,
   "metadata": {},
   "outputs": [
    {
     "data": {
      "text/plain": [
       "SeriousDlqin2yrs                        0.000000\n",
       "RevolvingUtilizationOfUnsecuredLines    0.000000\n",
       "age                                     0.000000\n",
       "NumberOfTime30-59DaysPastDueNotWorse    0.000000\n",
       "DebtRatio                               0.000000\n",
       "MonthlyIncome                           0.195601\n",
       "NumberOfOpenCreditLinesAndLoans         0.000000\n",
       "NumberOfTimes90DaysLate                 0.000000\n",
       "NumberRealEstateLoansOrLines            0.000000\n",
       "NumberOfTime60-89DaysPastDueNotWorse    0.000000\n",
       "NumberOfDependents                      0.000000\n",
       "dtype: float64"
      ]
     },
     "execution_count": 6,
     "metadata": {},
     "output_type": "execute_result"
    }
   ],
   "source": [
    "data[\"NumberOfDependents\"].fillna(data[\"NumberOfDependents\"].mean(),inplace=True)\n",
    "\n",
    "data.isnull().sum()/data.shape[0]"
   ]
  },
  {
   "cell_type": "code",
   "execution_count": 7,
   "metadata": {},
   "outputs": [],
   "source": [
    "def fill_missing_rf(x,y,to_fill):\n",
    "    df=x.copy()\n",
    "    fill=df.loc[:,to_fill]\n",
    "    df=pd.concat([df.loc[:,df.columns !=to_fill],pd.DataFrame(y)],axis=1)\n",
    "    #找出训练集和测试集\n",
    "    ytrain = fill[fill.notnull()]\n",
    "    ytest = fill[fill.isnull()]\n",
    "    Xtrain = df.iloc[ytrain.index,:]\n",
    "    Xtest = df.iloc[ytest.index,:]\n",
    "\n",
    "    from sklearn.ensemble import RandomForestRegressor as rfr\n",
    "    rfr = rfr(n_estimators=100)\n",
    "    rfr = rfr.fit(Xtrain,ytrain)\n",
    "    ypredict = rfr.predict(Xtest)\n",
    "\n",
    "    return ypredict"
   ]
  },
  {
   "cell_type": "code",
   "execution_count": 8,
   "metadata": {},
   "outputs": [],
   "source": [
    "x = data.iloc[:,1:]\n",
    "y = data[\"SeriousDlqin2yrs\"]\n",
    "y_pred = fill_missing_rf(x,y,\"MonthlyIncome\")\n",
    "# 确认数据无误后晋享覆盖\n",
    "data.loc[data.loc[:,\"MonthlyIncome\"].isnull(),\"MonthlyIncome\"] = y_pred"
   ]
  },
  {
   "cell_type": "code",
   "execution_count": null,
   "metadata": {},
   "outputs": [],
   "source": []
  },
  {
   "cell_type": "code",
   "execution_count": 9,
   "metadata": {},
   "outputs": [
    {
     "data": {
      "text/html": [
       "<div>\n",
       "<style scoped>\n",
       "    .dataframe tbody tr th:only-of-type {\n",
       "        vertical-align: middle;\n",
       "    }\n",
       "\n",
       "    .dataframe tbody tr th {\n",
       "        vertical-align: top;\n",
       "    }\n",
       "\n",
       "    .dataframe thead th {\n",
       "        text-align: right;\n",
       "    }\n",
       "</style>\n",
       "<table border=\"1\" class=\"dataframe\">\n",
       "  <thead>\n",
       "    <tr style=\"text-align: right;\">\n",
       "      <th></th>\n",
       "      <th>count</th>\n",
       "      <th>mean</th>\n",
       "      <th>std</th>\n",
       "      <th>min</th>\n",
       "      <th>1%</th>\n",
       "      <th>10%</th>\n",
       "      <th>25%</th>\n",
       "      <th>50%</th>\n",
       "      <th>75%</th>\n",
       "      <th>90%</th>\n",
       "      <th>99%</th>\n",
       "      <th>max</th>\n",
       "    </tr>\n",
       "  </thead>\n",
       "  <tbody>\n",
       "    <tr>\n",
       "      <th>SeriousDlqin2yrs</th>\n",
       "      <td>149391.0</td>\n",
       "      <td>0.066999</td>\n",
       "      <td>0.250021</td>\n",
       "      <td>0.0</td>\n",
       "      <td>0.0</td>\n",
       "      <td>0.000000</td>\n",
       "      <td>0.000000</td>\n",
       "      <td>0.000000</td>\n",
       "      <td>0.000000</td>\n",
       "      <td>0.000000</td>\n",
       "      <td>1.000000</td>\n",
       "      <td>1.0</td>\n",
       "    </tr>\n",
       "    <tr>\n",
       "      <th>RevolvingUtilizationOfUnsecuredLines</th>\n",
       "      <td>149391.0</td>\n",
       "      <td>6.071087</td>\n",
       "      <td>250.263672</td>\n",
       "      <td>0.0</td>\n",
       "      <td>0.0</td>\n",
       "      <td>0.003199</td>\n",
       "      <td>0.030132</td>\n",
       "      <td>0.154235</td>\n",
       "      <td>0.556494</td>\n",
       "      <td>0.978007</td>\n",
       "      <td>1.093922</td>\n",
       "      <td>50708.0</td>\n",
       "    </tr>\n",
       "    <tr>\n",
       "      <th>age</th>\n",
       "      <td>149391.0</td>\n",
       "      <td>52.306237</td>\n",
       "      <td>14.725962</td>\n",
       "      <td>0.0</td>\n",
       "      <td>24.0</td>\n",
       "      <td>33.000000</td>\n",
       "      <td>41.000000</td>\n",
       "      <td>52.000000</td>\n",
       "      <td>63.000000</td>\n",
       "      <td>72.000000</td>\n",
       "      <td>87.000000</td>\n",
       "      <td>109.0</td>\n",
       "    </tr>\n",
       "    <tr>\n",
       "      <th>NumberOfTime30-59DaysPastDueNotWorse</th>\n",
       "      <td>149391.0</td>\n",
       "      <td>0.393886</td>\n",
       "      <td>3.852953</td>\n",
       "      <td>0.0</td>\n",
       "      <td>0.0</td>\n",
       "      <td>0.000000</td>\n",
       "      <td>0.000000</td>\n",
       "      <td>0.000000</td>\n",
       "      <td>0.000000</td>\n",
       "      <td>1.000000</td>\n",
       "      <td>4.000000</td>\n",
       "      <td>98.0</td>\n",
       "    </tr>\n",
       "    <tr>\n",
       "      <th>DebtRatio</th>\n",
       "      <td>149391.0</td>\n",
       "      <td>354.436740</td>\n",
       "      <td>2041.843455</td>\n",
       "      <td>0.0</td>\n",
       "      <td>0.0</td>\n",
       "      <td>0.034991</td>\n",
       "      <td>0.177441</td>\n",
       "      <td>0.368234</td>\n",
       "      <td>0.875279</td>\n",
       "      <td>1275.000000</td>\n",
       "      <td>4985.100000</td>\n",
       "      <td>329664.0</td>\n",
       "    </tr>\n",
       "    <tr>\n",
       "      <th>MonthlyIncome</th>\n",
       "      <td>149391.0</td>\n",
       "      <td>5427.644863</td>\n",
       "      <td>13233.315218</td>\n",
       "      <td>0.0</td>\n",
       "      <td>0.0</td>\n",
       "      <td>0.180000</td>\n",
       "      <td>1800.000000</td>\n",
       "      <td>4430.000000</td>\n",
       "      <td>7416.000000</td>\n",
       "      <td>10800.000000</td>\n",
       "      <td>23250.000000</td>\n",
       "      <td>3008750.0</td>\n",
       "    </tr>\n",
       "    <tr>\n",
       "      <th>NumberOfOpenCreditLinesAndLoans</th>\n",
       "      <td>149391.0</td>\n",
       "      <td>8.480892</td>\n",
       "      <td>5.136515</td>\n",
       "      <td>0.0</td>\n",
       "      <td>0.0</td>\n",
       "      <td>3.000000</td>\n",
       "      <td>5.000000</td>\n",
       "      <td>8.000000</td>\n",
       "      <td>11.000000</td>\n",
       "      <td>15.000000</td>\n",
       "      <td>24.000000</td>\n",
       "      <td>58.0</td>\n",
       "    </tr>\n",
       "    <tr>\n",
       "      <th>NumberOfTimes90DaysLate</th>\n",
       "      <td>149391.0</td>\n",
       "      <td>0.238120</td>\n",
       "      <td>3.826165</td>\n",
       "      <td>0.0</td>\n",
       "      <td>0.0</td>\n",
       "      <td>0.000000</td>\n",
       "      <td>0.000000</td>\n",
       "      <td>0.000000</td>\n",
       "      <td>0.000000</td>\n",
       "      <td>0.000000</td>\n",
       "      <td>3.000000</td>\n",
       "      <td>98.0</td>\n",
       "    </tr>\n",
       "    <tr>\n",
       "      <th>NumberRealEstateLoansOrLines</th>\n",
       "      <td>149391.0</td>\n",
       "      <td>1.022391</td>\n",
       "      <td>1.130196</td>\n",
       "      <td>0.0</td>\n",
       "      <td>0.0</td>\n",
       "      <td>0.000000</td>\n",
       "      <td>0.000000</td>\n",
       "      <td>1.000000</td>\n",
       "      <td>2.000000</td>\n",
       "      <td>2.000000</td>\n",
       "      <td>4.000000</td>\n",
       "      <td>54.0</td>\n",
       "    </tr>\n",
       "    <tr>\n",
       "      <th>NumberOfTime60-89DaysPastDueNotWorse</th>\n",
       "      <td>149391.0</td>\n",
       "      <td>0.212503</td>\n",
       "      <td>3.810523</td>\n",
       "      <td>0.0</td>\n",
       "      <td>0.0</td>\n",
       "      <td>0.000000</td>\n",
       "      <td>0.000000</td>\n",
       "      <td>0.000000</td>\n",
       "      <td>0.000000</td>\n",
       "      <td>0.000000</td>\n",
       "      <td>2.000000</td>\n",
       "      <td>98.0</td>\n",
       "    </tr>\n",
       "    <tr>\n",
       "      <th>NumberOfDependents</th>\n",
       "      <td>149391.0</td>\n",
       "      <td>0.759863</td>\n",
       "      <td>1.101749</td>\n",
       "      <td>0.0</td>\n",
       "      <td>0.0</td>\n",
       "      <td>0.000000</td>\n",
       "      <td>0.000000</td>\n",
       "      <td>0.000000</td>\n",
       "      <td>1.000000</td>\n",
       "      <td>2.000000</td>\n",
       "      <td>4.000000</td>\n",
       "      <td>20.0</td>\n",
       "    </tr>\n",
       "  </tbody>\n",
       "</table>\n",
       "</div>"
      ],
      "text/plain": [
       "                                         count         mean           std  \\\n",
       "SeriousDlqin2yrs                      149391.0     0.066999      0.250021   \n",
       "RevolvingUtilizationOfUnsecuredLines  149391.0     6.071087    250.263672   \n",
       "age                                   149391.0    52.306237     14.725962   \n",
       "NumberOfTime30-59DaysPastDueNotWorse  149391.0     0.393886      3.852953   \n",
       "DebtRatio                             149391.0   354.436740   2041.843455   \n",
       "MonthlyIncome                         149391.0  5427.644863  13233.315218   \n",
       "NumberOfOpenCreditLinesAndLoans       149391.0     8.480892      5.136515   \n",
       "NumberOfTimes90DaysLate               149391.0     0.238120      3.826165   \n",
       "NumberRealEstateLoansOrLines          149391.0     1.022391      1.130196   \n",
       "NumberOfTime60-89DaysPastDueNotWorse  149391.0     0.212503      3.810523   \n",
       "NumberOfDependents                    149391.0     0.759863      1.101749   \n",
       "\n",
       "                                      min    1%        10%          25%  \\\n",
       "SeriousDlqin2yrs                      0.0   0.0   0.000000     0.000000   \n",
       "RevolvingUtilizationOfUnsecuredLines  0.0   0.0   0.003199     0.030132   \n",
       "age                                   0.0  24.0  33.000000    41.000000   \n",
       "NumberOfTime30-59DaysPastDueNotWorse  0.0   0.0   0.000000     0.000000   \n",
       "DebtRatio                             0.0   0.0   0.034991     0.177441   \n",
       "MonthlyIncome                         0.0   0.0   0.180000  1800.000000   \n",
       "NumberOfOpenCreditLinesAndLoans       0.0   0.0   3.000000     5.000000   \n",
       "NumberOfTimes90DaysLate               0.0   0.0   0.000000     0.000000   \n",
       "NumberRealEstateLoansOrLines          0.0   0.0   0.000000     0.000000   \n",
       "NumberOfTime60-89DaysPastDueNotWorse  0.0   0.0   0.000000     0.000000   \n",
       "NumberOfDependents                    0.0   0.0   0.000000     0.000000   \n",
       "\n",
       "                                              50%          75%           90%  \\\n",
       "SeriousDlqin2yrs                         0.000000     0.000000      0.000000   \n",
       "RevolvingUtilizationOfUnsecuredLines     0.154235     0.556494      0.978007   \n",
       "age                                     52.000000    63.000000     72.000000   \n",
       "NumberOfTime30-59DaysPastDueNotWorse     0.000000     0.000000      1.000000   \n",
       "DebtRatio                                0.368234     0.875279   1275.000000   \n",
       "MonthlyIncome                         4430.000000  7416.000000  10800.000000   \n",
       "NumberOfOpenCreditLinesAndLoans          8.000000    11.000000     15.000000   \n",
       "NumberOfTimes90DaysLate                  0.000000     0.000000      0.000000   \n",
       "NumberRealEstateLoansOrLines             1.000000     2.000000      2.000000   \n",
       "NumberOfTime60-89DaysPastDueNotWorse     0.000000     0.000000      0.000000   \n",
       "NumberOfDependents                       0.000000     1.000000      2.000000   \n",
       "\n",
       "                                               99%        max  \n",
       "SeriousDlqin2yrs                          1.000000        1.0  \n",
       "RevolvingUtilizationOfUnsecuredLines      1.093922    50708.0  \n",
       "age                                      87.000000      109.0  \n",
       "NumberOfTime30-59DaysPastDueNotWorse      4.000000       98.0  \n",
       "DebtRatio                              4985.100000   329664.0  \n",
       "MonthlyIncome                         23250.000000  3008750.0  \n",
       "NumberOfOpenCreditLinesAndLoans          24.000000       58.0  \n",
       "NumberOfTimes90DaysLate                   3.000000       98.0  \n",
       "NumberRealEstateLoansOrLines              4.000000       54.0  \n",
       "NumberOfTime60-89DaysPastDueNotWorse      2.000000       98.0  \n",
       "NumberOfDependents                        4.000000       20.0  "
      ]
     },
     "execution_count": 9,
     "metadata": {},
     "output_type": "execute_result"
    }
   ],
   "source": [
    "data.describe([0.01,0.1,0.25,0.5,0.75,0.9,0.99]).T"
   ]
  },
  {
   "cell_type": "code",
   "execution_count": 10,
   "metadata": {},
   "outputs": [],
   "source": [
    "data = data[data[\"age\"] != 0]\n",
    "data = data[data.loc[:,\"NumberOfTimes90DaysLate\"] < 90]\n",
    "data.index = range(data.shape[0])"
   ]
  },
  {
   "cell_type": "code",
   "execution_count": 11,
   "metadata": {},
   "outputs": [
    {
     "name": "stdout",
     "output_type": "stream",
     "text": [
      "样本个数149165；1占6.62%;0占93.38%\n"
     ]
    }
   ],
   "source": [
    "x = data.iloc[:,1:]\n",
    "y = data.iloc[:,0]\n",
    "y.value_counts()\n",
    "\n",
    "n_sample = x.shape[0]\n",
    "n_1_sampke = y.value_counts()[1]\n",
    "n_0_sampke = y.value_counts()[0]\n",
    "print(\"样本个数{}；1占{:.2%};0占{:.2%}\".format(n_sample,n_1_sampke/n_sample,n_0_sampke/n_sample))"
   ]
  },
  {
   "cell_type": "code",
   "execution_count": 12,
   "metadata": {},
   "outputs": [],
   "source": [
    "# 利用上采样进行平衡样本\n",
    "import imblearn\n",
    "from imblearn.over_sampling import SMOTE\n",
    "\n",
    "from imblearn.over_sampling import ADASYN\n",
    "sm = SMOTE(random_state=42) #实例化\n",
    "X,y = sm.fit_sample(x,y)"
   ]
  },
  {
   "cell_type": "code",
   "execution_count": 13,
   "metadata": {},
   "outputs": [
    {
     "name": "stdout",
     "output_type": "stream",
     "text": [
      "样本个数278584；1占50.00%;0占50.00%\n"
     ]
    }
   ],
   "source": [
    "n_sample_=X.shape[0]\n",
    "n_1_sampke = pd.Series(y).value_counts()[1]\n",
    "n_0_sampke = pd.Series(y).value_counts()[0]\n",
    "print(\"样本个数{}；1占{:.2%};0占{:.2%}\".format(n_sample_,n_1_sampke/n_sample_,n_0_sampke/n_sample_))"
   ]
  },
  {
   "cell_type": "code",
   "execution_count": 14,
   "metadata": {},
   "outputs": [],
   "source": [
    "from sklearn.model_selection import train_test_split\n",
    "X = pd.DataFrame(X)\n",
    "y = pd.DataFrame(y)\n",
    "\n",
    "X_train,X_vali,Y_train,Y_vali = train_test_split(X,y,test_size = 0.3,random_state = 420)\n",
    "model_data = pd.concat([Y_train,X_train], axis = 1)\n",
    "model_data.index = range(model_data.shape[0])\n",
    "model_data.columns = data.columns\n",
    "\n",
    "vali_data = pd.concat([Y_vali,X_vali],axis = 1)\n",
    "vali_data.index = range(vali_data.shape[0])\n",
    "vali_data.columns = data.columns\n",
    "\n",
    "model_data.to_csv(r\"/Users/matlida/Downloads/mondel.csv\")\n",
    "vali_data.to_csv(r\"/Users/matlida/Downloads/vali.csv\")"
   ]
  },
  {
   "cell_type": "code",
   "execution_count": 15,
   "metadata": {},
   "outputs": [
    {
     "name": "stdout",
     "output_type": "stream",
     "text": [
      "<class 'pandas.core.frame.DataFrame'>\n",
      "RangeIndex: 195008 entries, 0 to 195007\n",
      "Data columns (total 11 columns):\n",
      " #   Column                                Non-Null Count   Dtype  \n",
      "---  ------                                --------------   -----  \n",
      " 0   SeriousDlqin2yrs                      195008 non-null  int64  \n",
      " 1   RevolvingUtilizationOfUnsecuredLines  195008 non-null  float64\n",
      " 2   age                                   195008 non-null  int64  \n",
      " 3   NumberOfTime30-59DaysPastDueNotWorse  195008 non-null  int64  \n",
      " 4   DebtRatio                             195008 non-null  float64\n",
      " 5   MonthlyIncome                         195008 non-null  float64\n",
      " 6   NumberOfOpenCreditLinesAndLoans       195008 non-null  int64  \n",
      " 7   NumberOfTimes90DaysLate               195008 non-null  int64  \n",
      " 8   NumberRealEstateLoansOrLines          195008 non-null  int64  \n",
      " 9   NumberOfTime60-89DaysPastDueNotWorse  195008 non-null  int64  \n",
      " 10  NumberOfDependents                    195008 non-null  float64\n",
      "dtypes: float64(4), int64(7)\n",
      "memory usage: 16.4 MB\n"
     ]
    }
   ],
   "source": [
    "model_data.info()\n",
    "#vali_data.info()"
   ]
  },
  {
   "cell_type": "code",
   "execution_count": 16,
   "metadata": {},
   "outputs": [],
   "source": [
    "\n",
    "import matplotlib.pyplot as plt \n",
    "import scipy"
   ]
  },
  {
   "cell_type": "code",
   "execution_count": 17,
   "metadata": {},
   "outputs": [],
   "source": [
    "def abab(DF,X,Y,n,q,graph):\n",
    "    DF = DF[[X,Y]].copy()\n",
    "    \n",
    "    DF[\"qcut\"],bins = pd.qcut(DF[X],retbins=True,q=q,duplicates=\"drop\")\n",
    "    counnt_y0 = DF.loc[DF[Y]==0].groupby(by=\"qcut\").count()[Y]\n",
    "    counnt_y1 = DF.loc[DF[Y]==1].groupby(by=\"qcut\").count()[Y]\n",
    "    num_bins = [*zip(bins,bins[1:],counnt_y0,counnt_y1)]\n",
    "    \n",
    "    for i in range(q):\n",
    "        if 0 in num_bins[0][2:]:\n",
    "            num_bins[0:2]=[(\n",
    "                num_bins[0][0]\n",
    "                ,num_bins[1][1]\n",
    "                ,num_bins[0][2]+num_bins[1][2]\n",
    "                ,num_bins[0][3]+num_bins[1][3]\n",
    "                )]\n",
    "            continue\n",
    "    \n",
    "        for i in range(len(num_bins)):\n",
    "            if 0 in num_bins[i][2:]:\n",
    "                num_bins[i-1:i+1]=[(\n",
    "                    num_bins[i-1][0]\n",
    "                    ,num_bins[i][1]\n",
    "                    ,num_bins[i-1][2]+num_bins[i][2]\n",
    "                    ,num_bins[i-1][3]+num_bins[i][3])]\n",
    "                break       \n",
    "        else:\n",
    "            break\n",
    "    def get_woe(num_bins):\n",
    "        columns = [\"min\",\"max\",\"count_0\",\"count_1\"]\n",
    "        df = pd.DataFrame(num_bins,columns=columns)\n",
    "    \n",
    "        df[\"total\"] = df.count_0 + df.count_1\n",
    "        df[\"percentage\"] = df.total / df.total.sum()\n",
    "        df[\"bad_rate\"] = df.count_1 / df.total\n",
    "        df[\"good%\"] = df.count_0 / df.count_0.sum()\n",
    "        df[\"bad%\"] = df.count_1 / df.count_1.sum()\n",
    "        df[\"woe\"] = np.log(df[\"good%\"] / df[\"bad%\"]) \n",
    "        return df\n",
    "\n",
    "    def get_iv(df):\n",
    "        rate = df['good%'] - df['bad%']\n",
    "        iv = np.sum(rate*df.woe)\n",
    "        return iv\n",
    "    IV = []\n",
    "    axisx = []\n",
    "    while len(num_bins) > n:\n",
    "        psv=[]\n",
    "    #获取num_bins两两之间的卡方值\n",
    "        for i in range (len(num_bins)-1):\n",
    "            x1 = num_bins[i][2:]\n",
    "            x2 = num_bins[i+1][2:]\n",
    "            pv = scipy.stats.chi2_contingency([x1,x2])[1]\n",
    "            psv.append(pv)\n",
    "\n",
    "    # 合并p值最大的两组\n",
    "        i = psv.index(max(psv))\n",
    "        num_bins[i:i+2] = [(num_bins[i][0],\n",
    "                             num_bins[i+1][1],\n",
    "                             num_bins[i][2]+num_bins[i+1][2],\n",
    "                            num_bins[i][3]+num_bins[i+1][3]\n",
    "                        )]        \n",
    "        bins_df = get_woe(num_bins)\n",
    "        axisx.append(len(num_bins))\n",
    "        IV.append(get_iv(bins_df))\n",
    "        \n",
    "    if graph:\n",
    "        plt.figure()\n",
    "        plt.plot(axisx,IV)\n",
    "        plt.xticks(axisx)\n",
    "        plt.grid()\n",
    "        plt.show()\n",
    "    return bins_df  "
   ]
  },
  {
   "cell_type": "code",
   "execution_count": 18,
   "metadata": {},
   "outputs": [
    {
     "name": "stdout",
     "output_type": "stream",
     "text": [
      "RevolvingUtilizationOfUnsecuredLines\n",
      "age\n",
      "NumberOfTime30-59DaysPastDueNotWorse\n",
      "DebtRatio\n",
      "MonthlyIncome\n",
      "NumberOfOpenCreditLinesAndLoans\n",
      "NumberOfTimes90DaysLate\n",
      "NumberRealEstateLoansOrLines\n",
      "NumberOfTime60-89DaysPastDueNotWorse\n"
     ]
    }
   ],
   "source": [
    "for i in model_data.columns[1:-1]:\n",
    "    print(i)"
   ]
  },
  {
   "cell_type": "code",
   "execution_count": 19,
   "metadata": {},
   "outputs": [
    {
     "name": "stdout",
     "output_type": "stream",
     "text": [
      "RevolvingUtilizationOfUnsecuredLines\n"
     ]
    },
    {
     "data": {
      "image/png": "[encoded data removed]",
      "text/plain": [
       "<Figure size 432x288 with 1 Axes>"
      ]
     },
     "metadata": {
      "needs_background": "light"
     },
     "output_type": "display_data"
    },
    {
     "name": "stdout",
     "output_type": "stream",
     "text": [
      "age\n"
     ]
    },
    {
     "data": {
      "image/png": "[encoded data removed]",
      "text/plain": [
       "<Figure size 432x288 with 1 Axes>"
      ]
     },
     "metadata": {
      "needs_background": "light"
     },
     "output_type": "display_data"
    },
    {
     "name": "stdout",
     "output_type": "stream",
     "text": [
      "NumberOfTime30-59DaysPastDueNotWorse\n"
     ]
    },
    {
     "data": {
      "image/png": "[encoded data removed]",
      "text/plain": [
       "<Figure size 432x288 with 1 Axes>"
      ]
     },
     "metadata": {
      "needs_background": "light"
     },
     "output_type": "display_data"
    },
    {
     "name": "stdout",
     "output_type": "stream",
     "text": [
      "DebtRatio\n"
     ]
    },
    {
     "data": {
      "image/png": "[encoded data removed]",
      "text/plain": [
       "<Figure size 432x288 with 1 Axes>"
      ]
     },
     "metadata": {
      "needs_background": "light"
     },
     "output_type": "display_data"
    },
    {
     "name": "stdout",
     "output_type": "stream",
     "text": [
      "MonthlyIncome\n"
     ]
    },
    {
     "data": {
      "image/png": "[encoded data removed]",
      "text/plain": [
       "<Figure size 432x288 with 1 Axes>"
      ]
     },
     "metadata": {
      "needs_background": "light"
     },
     "output_type": "display_data"
    },
    {
     "name": "stdout",
     "output_type": "stream",
     "text": [
      "NumberOfOpenCreditLinesAndLoans\n"
     ]
    },
    {
     "data": {
      "image/png": "[encoded data removed]",
      "text/plain": [
       "<Figure size 432x288 with 1 Axes>"
      ]
     },
     "metadata": {
      "needs_background": "light"
     },
     "output_type": "display_data"
    },
    {
     "name": "stdout",
     "output_type": "stream",
     "text": [
      "NumberOfTimes90DaysLate\n"
     ]
    },
    {
     "data": {
      "image/png": "[encoded data removed]",
      "text/plain": [
       "<Figure size 432x288 with 1 Axes>"
      ]
     },
     "metadata": {
      "needs_background": "light"
     },
     "output_type": "display_data"
    },
    {
     "name": "stdout",
     "output_type": "stream",
     "text": [
      "NumberRealEstateLoansOrLines\n"
     ]
    },
    {
     "data": {
      "image/png": "[encoded data removed]",
      "text/plain": [
       "<Figure size 432x288 with 1 Axes>"
      ]
     },
     "metadata": {
      "needs_background": "light"
     },
     "output_type": "display_data"
    },
    {
     "name": "stdout",
     "output_type": "stream",
     "text": [
      "NumberOfTime60-89DaysPastDueNotWorse\n"
     ]
    },
    {
     "data": {
      "image/png": "[encoded data removed]",
      "text/plain": [
       "<Figure size 432x288 with 1 Axes>"
      ]
     },
     "metadata": {
      "needs_background": "light"
     },
     "output_type": "display_data"
    },
    {
     "ename": "UnboundLocalError",
     "evalue": "local variable 'bins_df' referenced before assignment",
     "output_type": "error",
     "traceback": [
      "\u001b[0;31m---------------------------------------------------------------------------\u001b[0m",
      "\u001b[0;31mUnboundLocalError\u001b[0m                         Traceback (most recent call last)",
      "\u001b[0;32m<ipython-input-19-466046f3a9e5>\u001b[0m in \u001b[0;36m<module>\u001b[0;34m\u001b[0m\n\u001b[1;32m      1\u001b[0m \u001b[0;32mfor\u001b[0m \u001b[0mi\u001b[0m \u001b[0;32min\u001b[0m \u001b[0mmodel_data\u001b[0m\u001b[0;34m.\u001b[0m\u001b[0mcolumns\u001b[0m\u001b[0;34m[\u001b[0m\u001b[0;36m1\u001b[0m\u001b[0;34m:\u001b[0m\u001b[0;34m-\u001b[0m\u001b[0;36m1\u001b[0m\u001b[0;34m]\u001b[0m\u001b[0;34m:\u001b[0m\u001b[0;34m\u001b[0m\u001b[0;34m\u001b[0m\u001b[0m\n\u001b[1;32m      2\u001b[0m     \u001b[0mprint\u001b[0m\u001b[0;34m(\u001b[0m\u001b[0mi\u001b[0m\u001b[0;34m)\u001b[0m\u001b[0;34m\u001b[0m\u001b[0;34m\u001b[0m\u001b[0m\n\u001b[0;32m----> 3\u001b[0;31m     \u001b[0mabab\u001b[0m \u001b[0;34m(\u001b[0m\u001b[0mmodel_data\u001b[0m\u001b[0;34m,\u001b[0m\u001b[0mi\u001b[0m\u001b[0;34m,\u001b[0m\u001b[0;34m'SeriousDlqin2yrs'\u001b[0m\u001b[0;34m,\u001b[0m\u001b[0mn\u001b[0m\u001b[0;34m=\u001b[0m\u001b[0;36m2\u001b[0m\u001b[0;34m,\u001b[0m\u001b[0mq\u001b[0m\u001b[0;34m=\u001b[0m\u001b[0;36m20\u001b[0m\u001b[0;34m,\u001b[0m\u001b[0mgraph\u001b[0m\u001b[0;34m=\u001b[0m\u001b[0;32mTrue\u001b[0m\u001b[0;34m)\u001b[0m\u001b[0;34m\u001b[0m\u001b[0;34m\u001b[0m\u001b[0m\n\u001b[0m\u001b[1;32m      4\u001b[0m     \u001b[0;31m#graphforbestbin (DF,X,Y,n=5,q=20,graph=True)\u001b[0m\u001b[0;34m\u001b[0m\u001b[0;34m\u001b[0m\u001b[0;34m\u001b[0m\u001b[0m\n",
      "\u001b[0;32m<ipython-input-17-6fe61126b9d9>\u001b[0m in \u001b[0;36mabab\u001b[0;34m(DF, X, Y, n, q, graph)\u001b[0m\n\u001b[1;32m     71\u001b[0m         \u001b[0mplt\u001b[0m\u001b[0;34m.\u001b[0m\u001b[0mgrid\u001b[0m\u001b[0;34m(\u001b[0m\u001b[0;34m)\u001b[0m\u001b[0;34m\u001b[0m\u001b[0;34m\u001b[0m\u001b[0m\n\u001b[1;32m     72\u001b[0m         \u001b[0mplt\u001b[0m\u001b[0;34m.\u001b[0m\u001b[0mshow\u001b[0m\u001b[0;34m(\u001b[0m\u001b[0;34m)\u001b[0m\u001b[0;34m\u001b[0m\u001b[0;34m\u001b[0m\u001b[0m\n\u001b[0;32m---> 73\u001b[0;31m     \u001b[0;32mreturn\u001b[0m \u001b[0mbins_df\u001b[0m\u001b[0;34m\u001b[0m\u001b[0;34m\u001b[0m\u001b[0m\n\u001b[0m",
      "\u001b[0;31mUnboundLocalError\u001b[0m: local variable 'bins_df' referenced before assignment"
     ]
    }
   ],
   "source": [
    "for i in model_data.columns[1:-1]:\n",
    "    print(i)\n",
    "    abab (model_data,i,'SeriousDlqin2yrs',n=2,q=20,graph=True)\n",
    "    #graphforbestbin (DF,X,Y,n=5,q=20,graph=True)"
   ]
  },
  {
   "cell_type": "code",
   "execution_count": null,
   "metadata": {},
   "outputs": [],
   "source": [
    "bins_df_ = abab(model_data,\"age\",\n",
    "                   \"SeriousDlqin2yrs\"\n",
    "                   ,n=5\n",
    "                   ,q=20\n",
    "                   ,graph = False)\n",
    "bins_df_"
   ]
  },
  {
   "cell_type": "code",
   "execution_count": 20,
   "metadata": {},
   "outputs": [
    {
     "data": {
      "text/plain": [
       "{'NumberOfTime30-59DaysPastDueNotWorse': [-inf, 1, 2, inf],\n",
       " 'NumberOfTimes90DaysLate': [-inf, 1, 2, inf],\n",
       " 'NumberRealEstateLoansOrLines': [-inf, 1, 2, 4, inf],\n",
       " 'NumberOfTime60-89DaysPastDueNotWorse': [-inf, 1, 2, 8, inf],\n",
       " 'NumberOfDependents': [-inf, 1, 2, inf]}"
      ]
     },
     "execution_count": 20,
     "metadata": {},
     "output_type": "execute_result"
    }
   ],
   "source": [
    "auto_col_bins = {'RevolvingUtilizationOfUnsecuredLines':6\n",
    "                 ,'age':5\n",
    "                 ,'DebtRatio':4\n",
    "                 ,'MonthlyIncome':3\n",
    "                 ,'NumberOfOpenCreditLinesAndLoans':5\n",
    "                 }\n",
    "\n",
    "# 对不能使用自动分箱的变量\n",
    "hand_bins = {\"NumberOfTime30-59DaysPastDueNotWorse\":[-np.inf,1,2,np.inf]\n",
    "             ,\"NumberOfTimes90DaysLate\":[-np.inf,1,2,np.inf]\n",
    "             ,\"NumberRealEstateLoansOrLines\":[-np.inf,1,2,4,np.inf]\n",
    "             ,\"NumberOfTime60-89DaysPastDueNotWorse\":[-np.inf,1,2,8,np.inf]\n",
    "             ,\"NumberOfDependents\":[-np.inf,1,2,np.inf]\n",
    "            }\n",
    "#保证区间覆盖使用np.inf来替换最大值 -np.inf替换最小值\n",
    "band_bins = {k:[-np.inf,*v[:-1],np.inf] for k,v in hand_bins.items()}                             \n",
    "hand_bins\n"
   ]
  },
  {
   "cell_type": "code",
   "execution_count": 21,
   "metadata": {},
   "outputs": [
    {
     "data": {
      "text/plain": [
       "{'RevolvingUtilizationOfUnsecuredLines': [-inf,\n",
       "  0.09905349375000001,\n",
       "  0.2978753766811289,\n",
       "  0.46500624924358747,\n",
       "  0.9824579518497449,\n",
       "  0.9999998999999999,\n",
       "  inf],\n",
       " 'age': [-inf, 36.0, 54.0, 61.0, 74.0, inf],\n",
       " 'DebtRatio': [-inf,\n",
       "  0.017438966037578017,\n",
       "  0.320711387943383,\n",
       "  1.4668188007857594,\n",
       "  inf],\n",
       " 'MonthlyIncome': [-inf, 0.1005914333487921, 7716.342587652352, inf],\n",
       " 'NumberOfOpenCreditLinesAndLoans': [-inf, 1.0, 3.0, 5.0, 17.0, inf],\n",
       " 'NumberOfTime30-59DaysPastDueNotWorse': [-inf, 1, 2, inf],\n",
       " 'NumberOfTimes90DaysLate': [-inf, 1, 2, inf],\n",
       " 'NumberRealEstateLoansOrLines': [-inf, 1, 2, 4, inf],\n",
       " 'NumberOfTime60-89DaysPastDueNotWorse': [-inf, 1, 2, 8, inf],\n",
       " 'NumberOfDependents': [-inf, 1, 2, inf]}"
      ]
     },
     "execution_count": 21,
     "metadata": {},
     "output_type": "execute_result"
    }
   ],
   "source": [
    "bins_of_col ={}\n",
    "# 生成自动分箱的分箱区间和分箱后的iv值\n",
    "for col in auto_col_bins:\n",
    "    bins_df = abab(model_data,col,\n",
    "                   \"SeriousDlqin2yrs\"\n",
    "                   ,n=auto_col_bins[col]\n",
    "                   ,q=20\n",
    "                   ,graph = False)\n",
    "    bins_list =  sorted(set(bins_df[\"min\"]).union(bins_df[\"max\"]))\n",
    "    bins_list[0],bins_list[-1] = -np.inf,np.inf\n",
    "    bins_of_col[col] = bins_list\n",
    "\n",
    "# 合并手动分箱数据\n",
    "bins_of_col.update(hand_bins)\n",
    "bins_of_col"
   ]
  },
  {
   "cell_type": "code",
   "execution_count": 22,
   "metadata": {},
   "outputs": [],
   "source": [
    "def get_woe(df,col,y,bins):\n",
    "    df = df[[col,y]].copy()\n",
    "    df[\"cut\"] = pd.cut(df[col],bins)\n",
    "    bins_df = df.groupby(\"cut\")[y].value_counts().unstack()\n",
    "    woe = bins_df[\"woe\"]= np.log((bins_df[0]/bins_df[0].sum())/(bins_df[1]/bins_df[1].sum()))\n",
    "    return woe\n",
    "    "
   ]
  },
  {
   "cell_type": "code",
   "execution_count": 23,
   "metadata": {},
   "outputs": [
    {
     "name": "stdout",
     "output_type": "stream",
     "text": [
      "RevolvingUtilizationOfUnsecuredLines\n",
      "age\n",
      "DebtRatio\n",
      "MonthlyIncome\n",
      "NumberOfOpenCreditLinesAndLoans\n",
      "NumberOfTime30-59DaysPastDueNotWorse\n",
      "NumberOfTimes90DaysLate\n",
      "NumberRealEstateLoansOrLines\n",
      "NumberOfTime60-89DaysPastDueNotWorse\n",
      "NumberOfDependents\n"
     ]
    }
   ],
   "source": [
    "woeall = {}\n",
    "\n",
    "for col in bins_of_col:\n",
    "    print(col)\n",
    "    woeall[col] = get_woe(model_data,col,\"SeriousDlqin2yrs\",bins_of_col[col])\n",
    " "
   ]
  },
  {
   "cell_type": "code",
   "execution_count": 24,
   "metadata": {},
   "outputs": [
    {
     "data": {
      "text/plain": [
       "{'RevolvingUtilizationOfUnsecuredLines': cut\n",
       " (-inf, 0.0991]     2.201667\n",
       " (0.0991, 0.298]    0.669276\n",
       " (0.298, 0.465]    -0.129224\n",
       " (0.465, 0.982]    -1.073202\n",
       " (0.982, 1.0]      -0.477059\n",
       " (1.0, inf]        -2.035591\n",
       " dtype: float64,\n",
       " 'age': cut\n",
       " (-inf, 36.0]   -0.522712\n",
       " (36.0, 54.0]   -0.278800\n",
       " (54.0, 61.0]    0.249814\n",
       " (61.0, 74.0]    1.006390\n",
       " (74.0, inf]     1.707851\n",
       " dtype: float64,\n",
       " 'DebtRatio': cut\n",
       " (-inf, 0.0174]     1.512637\n",
       " (0.0174, 0.321]    0.073798\n",
       " (0.321, 1.467]    -0.314478\n",
       " (1.467, inf]       0.176333\n",
       " dtype: float64,\n",
       " 'MonthlyIncome': cut\n",
       " (-inf, 0.101]        1.449303\n",
       " (0.101, 7716.343]   -0.176910\n",
       " (7716.343, inf]      0.356084\n",
       " dtype: float64,\n",
       " 'NumberOfOpenCreditLinesAndLoans': cut\n",
       " (-inf, 1.0]   -0.844289\n",
       " (1.0, 3.0]    -0.332200\n",
       " (3.0, 5.0]    -0.051484\n",
       " (5.0, 17.0]    0.122914\n",
       " (17.0, inf]    0.465473\n",
       " dtype: float64,\n",
       " 'NumberOfTime30-59DaysPastDueNotWorse': cut\n",
       " (-inf, 1.0]    0.133903\n",
       " (1.0, 2.0]    -1.381380\n",
       " (2.0, inf]    -1.545164\n",
       " dtype: float64,\n",
       " 'NumberOfTimes90DaysLate': cut\n",
       " (-inf, 1.0]    0.088109\n",
       " (1.0, 2.0]    -2.253816\n",
       " (2.0, inf]    -2.409617\n",
       " dtype: float64,\n",
       " 'NumberRealEstateLoansOrLines': cut\n",
       " (-inf, 1.0]   -0.146092\n",
       " (1.0, 2.0]     0.616164\n",
       " (2.0, 4.0]     0.388450\n",
       " (4.0, inf]    -0.295732\n",
       " dtype: float64,\n",
       " 'NumberOfTime60-89DaysPastDueNotWorse': cut\n",
       " (-inf, 1.0]    0.027785\n",
       " (1.0, 2.0]    -1.767353\n",
       " (2.0, 8.0]    -1.835240\n",
       " (8.0, inf]          NaN\n",
       " dtype: float64,\n",
       " 'NumberOfDependents': cut\n",
       " (-inf, 1.0]    0.204902\n",
       " (1.0, 2.0]    -0.535063\n",
       " (2.0, inf]    -0.481727\n",
       " dtype: float64}"
      ]
     },
     "execution_count": 24,
     "metadata": {},
     "output_type": "execute_result"
    }
   ],
   "source": [
    "woeall"
   ]
  },
  {
   "cell_type": "code",
   "execution_count": 25,
   "metadata": {},
   "outputs": [],
   "source": [
    "#映射数据\n",
    "model_woe = pd.DataFrame(index = model_data.index)\n",
    "#model_woe['age']= pd.cut(model_data['age'],bins_of_col['age']).map(woeall['age'])"
   ]
  },
  {
   "cell_type": "code",
   "execution_count": 26,
   "metadata": {},
   "outputs": [
    {
     "name": "stdout",
     "output_type": "stream",
     "text": [
      "<class 'pandas.core.frame.DataFrame'>\n",
      "RangeIndex: 195008 entries, 0 to 195007\n",
      "Data columns (total 11 columns):\n",
      " #   Column                                Non-Null Count   Dtype   \n",
      "---  ------                                --------------   -----   \n",
      " 0   RevolvingUtilizationOfUnsecuredLines  195008 non-null  category\n",
      " 1   age                                   195008 non-null  category\n",
      " 2   DebtRatio                             195008 non-null  category\n",
      " 3   MonthlyIncome                         195008 non-null  category\n",
      " 4   NumberOfOpenCreditLinesAndLoans       195008 non-null  category\n",
      " 5   NumberOfTime30-59DaysPastDueNotWorse  195008 non-null  category\n",
      " 6   NumberOfTimes90DaysLate               195008 non-null  category\n",
      " 7   NumberRealEstateLoansOrLines          195008 non-null  category\n",
      " 8   NumberOfTime60-89DaysPastDueNotWorse  195007 non-null  float64 \n",
      " 9   NumberOfDependents                    195008 non-null  category\n",
      " 10  SeriousDlqin2yrs                      195008 non-null  int64   \n",
      "dtypes: category(9), float64(1), int64(1)\n",
      "memory usage: 4.7 MB\n"
     ]
    }
   ],
   "source": [
    "#映射数据\n",
    "for col in bins_of_col:\n",
    "    model_woe[col] = pd.cut(model_data[col],bins_of_col[col]).map(woeall[col])\n",
    "#补充标签数据\n",
    "model_woe['SeriousDlqin2yrs'] = model_data['SeriousDlqin2yrs']\n",
    "#最终数据\n",
    "model_woe.info()"
   ]
  },
  {
   "cell_type": "code",
   "execution_count": 27,
   "metadata": {},
   "outputs": [],
   "source": [
    "model_woe.to_excel(r'/Users/matlida/Downloads/model1.xlsx')\n",
    "vali_woe.to_excel(r'/Users/matlida/Downloads/model1.xlsx')"
   ]
  },
  {
   "cell_type": "markdown",
   "metadata": {},
   "source": [
    "### from then"
   ]
  },
  {
   "cell_type": "code",
   "execution_count": 66,
   "metadata": {},
   "outputs": [
    {
     "name": "stdout",
     "output_type": "stream",
     "text": [
      "<class 'pandas.core.frame.DataFrame'>\n",
      "RangeIndex: 149165 entries, 0 to 149164\n",
      "Data columns (total 10 columns):\n",
      " #   Column                                Non-Null Count   Dtype  \n",
      "---  ------                                --------------   -----  \n",
      " 0   RevolvingUtilizationOfUnsecuredLines  149165 non-null  float64\n",
      " 1   age                                   149165 non-null  int64  \n",
      " 2   NumberOfTime30-59DaysPastDueNotWorse  149165 non-null  int64  \n",
      " 3   DebtRatio                             149165 non-null  float64\n",
      " 4   MonthlyIncome                         149165 non-null  float64\n",
      " 5   NumberOfOpenCreditLinesAndLoans       149165 non-null  int64  \n",
      " 6   NumberOfTimes90DaysLate               149165 non-null  int64  \n",
      " 7   NumberRealEstateLoansOrLines          149165 non-null  int64  \n",
      " 8   NumberOfTime60-89DaysPastDueNotWorse  149165 non-null  int64  \n",
      " 9   NumberOfDependents                    149165 non-null  float64\n",
      "dtypes: float64(4), int64(6)\n",
      "memory usage: 11.4 MB\n"
     ]
    }
   ],
   "source": [
    "model_woe = pd.read_excel(r'/Users/matlida/Downloads/model.xlsx')\n",
    "X = model_woe.iloc[:,1:-1]\n",
    "y = model_woe.iloc[:,-1]\n",
    "x.info()"
   ]
  },
  {
   "cell_type": "code",
   "execution_count": 76,
   "metadata": {},
   "outputs": [
    {
     "name": "stdout",
     "output_type": "stream",
     "text": [
      "<class 'pandas.core.frame.DataFrame'>\n",
      "RangeIndex: 83576 entries, 0 to 83575\n",
      "Data columns (total 10 columns):\n",
      " #   Column                                Non-Null Count  Dtype  \n",
      "---  ------                                --------------  -----  \n",
      " 0   RevolvingUtilizationOfUnsecuredLines  83576 non-null  float64\n",
      " 1   age                                   83576 non-null  float64\n",
      " 2   DebtRatio                             83576 non-null  float64\n",
      " 3   MonthlyIncome                         83576 non-null  float64\n",
      " 4   NumberOfOpenCreditLinesAndLoans       83576 non-null  float64\n",
      " 5   NumberOfTime30-59DaysPastDueNotWorse  83576 non-null  float64\n",
      " 6   NumberOfTimes90DaysLate               83576 non-null  float64\n",
      " 7   NumberRealEstateLoansOrLines          83576 non-null  float64\n",
      " 8   NumberOfTime60-89DaysPastDueNotWorse  83576 non-null  float64\n",
      " 9   NumberOfDependents                    83576 non-null  float64\n",
      "dtypes: float64(10)\n",
      "memory usage: 6.4 MB\n"
     ]
    }
   ],
   "source": [
    "vali_woe = pd.read_excel(r'/Users/matlida/Downloads/model1.xlsx')\n",
    "vali_x = vali_woe.iloc[:,1:-1]\n",
    "vali_y = vali_woe.iloc[:,-1]\n",
    "vali_x.info()"
   ]
  },
  {
   "cell_type": "code",
   "execution_count": 74,
   "metadata": {},
   "outputs": [],
   "source": [
    "vali_woe = pd.DataFrame(index = model_data.index)\n",
    "for col in bins_of_col:\n",
    "    #print(col)\n",
    "    vali_woe[col] = pd.cut(vali_data[col],bins_of_col[col]).map(woeall[col])\n",
    "vali_woe['SeriousDlqin2yrs'] = vali_data['SeriousDlqin2yrs']"
   ]
  },
  {
   "cell_type": "code",
   "execution_count": 77,
   "metadata": {},
   "outputs": [
    {
     "data": {
      "text/plain": [
       "0.7691562170958169"
      ]
     },
     "execution_count": 77,
     "metadata": {},
     "output_type": "execute_result"
    }
   ],
   "source": [
    "lr = LR().fit(X,y)\n",
    "lr.score(vali_x,vali_y)"
   ]
  },
  {
   "cell_type": "code",
   "execution_count": 123,
   "metadata": {},
   "outputs": [
    {
     "data": {
      "text/plain": [
       "<matplotlib.axes._subplots.AxesSubplot at 0x7fa4c2046c90>"
      ]
     },
     "execution_count": 123,
     "metadata": {},
     "output_type": "execute_result"
    },
    {
     "data": {
      "image/png": "[encoded data removed]",
      "text/plain": [
       "<Figure size 432x432 with 1 Axes>"
      ]
     },
     "metadata": {
      "needs_background": "light"
     },
     "output_type": "display_data"
    }
   ],
   "source": [
    "import scikitplot as skplt \n",
    "vali_proba_df =  pd.DataFrame(lr.predict_proba(vali_x))\n",
    "skplt.metrics.plot_roc(vali_y,vali_proba_df,\n",
    "                       plot_micro= False,figsize= (6,6),\n",
    "                       \n",
    "                       plot_macro = False)"
   ]
  },
  {
   "cell_type": "code",
   "execution_count": 115,
   "metadata": {},
   "outputs": [],
   "source": [
    "\n",
    "b = 20/np.log(2)\n",
    "a = 600+b*np.log(1/60)\n",
    "base_score = a - b*lr.intercept_"
   ]
  },
  {
   "cell_type": "code",
   "execution_count": 122,
   "metadata": {},
   "outputs": [],
   "source": [
    "file1 = '/Users/matlida/Downloads/score1.csv'\n",
    "with open (file,'w') as fdata:\n",
    "    fdata.write('base_score,{}\\n'.format(base_score))\n",
    "for i,col in enumerate(x.columns):\n",
    "    score = woeall[col]*(-b*lr.coef_[0][i])\n",
    "    score_name = 'score'\n",
    "    score.index.name = col \n",
    "    #score.to_excel(file1,header=True) \n",
    "    score.to_csv(file1,header=True,mode = 'a')    "
   ]
  },
  {
   "cell_type": "markdown",
   "metadata": {},
   "source": [
    "## test "
   ]
  },
  {
   "cell_type": "code",
   "execution_count": null,
   "metadata": {},
   "outputs": [],
   "source": []
  },
  {
   "cell_type": "code",
   "execution_count": null,
   "metadata": {},
   "outputs": [],
   "source": [
    "def monotone_badrate(regroup,shape='mono',u=False):\n",
    "    regroup=regroup.sort_index(ascending=True)\n",
    "    badrate=list(regroup.badrate)\n",
    "    cnt=len(badrate)\n",
    "    if cnt<=1:print('%s组无所谓单调性'%cnt);return True\n",
    "    #单调，计算：up=True不严格单调增，down=True不严格单调减；\n",
    "    up=all([badrate[i] <= badrate[i+1] for i in range(cnt-1)])\n",
    "    down=all([badrate[i] >= badrate[i+1] for i in range(cnt-1)])\n",
    "    #期望单调性与实际单调性相符则mono_return=True，否则mono_return=False\n",
    "    if shape=='mono_up':mono_return=up\n",
    "    elif shape=='mono_down':mono_return=down\n",
    "    else:mono_return=any([up,down])\n",
    "    ###########################################################################\n",
    "    #已判断为非单调，但允许U形，则进一步判断是否U形\n",
    "    if mono_return==False and u!=False:\n",
    "        #bool_strict=False，表示存在至少一对相邻数值相等，则这组数值即便成U形，但不会严格。\n",
    "        bool_strict=1-any([badrate[i]==badrate[i+1] for i in range(cnt-1)])\n",
    "        if bool_strict==False:return mono_return\n",
    "        id_min=badrate.index(min(badrate));id_max=badrate.index(max(badrate))\n",
    "        #倒U形：极大值索引id_max不在首或尾，且id_max左边单调增，右边单调减\n",
    "        if id_max not in [0,cnt-1]:\n",
    "            up_left=[badrate[i]<=badrate[i+1] for i in range(id_max)]\n",
    "            down_right=[badrate[i]>=badrate[i+1] for i in range(id_max,cnt-1)]\n",
    "            U_down=all(up_left+down_right)\n",
    "        #不构成倒U形：极大值索引在首或尾\n",
    "        else:U_down=False\n",
    "        #正U形：极小值索引id_min不在首或尾，且id_min左边单调减，右边单调增\n",
    "        if id_min not in [0,cnt-1]:\n",
    "            down_left=[badrate[i]>=badrate[i+1] for i in range(id_min)]\n",
    "            up_right=[badrate[i]<=badrate[i+1] for i in range(id_min,cnt-1)]\n",
    "            U_up=all(down_left+up_right)\n",
    "        #不构成正U形：极小值索引在首或尾\n",
    "        else:U_up=False\n",
    "        #期望单调性与实际单调性相符则True，否则False\n",
    "        if u=='u_up':mono_return=U_up\n",
    "        elif u=='u_down':mono_return=U_down\n",
    "        else:mono_return=any([U_up,U_down])\n",
    "    return mono_return\n",
    "\n"
   ]
  },
  {
   "cell_type": "code",
   "execution_count": null,
   "metadata": {},
   "outputs": [],
   "source": [
    "def bin_badrate(df,var,label):\n",
    "    total=df.groupby(var)[label].count()\n",
    "    bad=df.groupby(var)[label].sum()\n",
    "    regroup=pd.DataFrame({'total':total,'bad':bad})\n",
    "    regroup['badrate']=regroup.apply(lambda x:x.bad/x.total,axis=1)\n",
    "    return regroup"
   ]
  },
  {
   "cell_type": "code",
   "execution_count": null,
   "metadata": {},
   "outputs": [],
   "source": [
    "\n",
    "aa = bin_badrate(data,'cut','SeriousDlqin2yrs')\n",
    "ab = aa.badrate.to_dict()\n",
    "ab"
   ]
  },
  {
   "cell_type": "code",
   "execution_count": null,
   "metadata": {},
   "outputs": [],
   "source": [
    "monotone_badrate(aa,shape = 'mono',u = False)"
   ]
  },
  {
   "cell_type": "code",
   "execution_count": null,
   "metadata": {},
   "outputs": [],
   "source": [
    "%who"
   ]
  },
  {
   "cell_type": "code",
   "execution_count": null,
   "metadata": {},
   "outputs": [],
   "source": [
    "data['age'+'_br']=data['age'].map(ab)"
   ]
  },
  {
   "cell_type": "code",
   "execution_count": null,
   "metadata": {},
   "outputs": [],
   "source": []
  },
  {
   "cell_type": "code",
   "execution_count": null,
   "metadata": {},
   "outputs": [],
   "source": [
    "data.head()"
   ]
  },
  {
   "cell_type": "code",
   "execution_count": null,
   "metadata": {},
   "outputs": [],
   "source": [
    "for var in data.columns:\n",
    "        var_val_2bin={i:i for i in set(data[var])}#变量取值及其分箱规则初始化\n",
    "        print(var)\n",
    "        print(var_val_2bin)"
   ]
  },
  {
   "cell_type": "code",
   "execution_count": null,
   "metadata": {},
   "outputs": [],
   "source": []
  }
 ],
 "metadata": {
  "kernelspec": {
   "display_name": "Python 3",
   "language": "python",
   "name": "python3"
  },
  "language_info": {
   "codemirror_mode": {
    "name": "ipython",
    "version": 3
   },
   "file_extension": ".py",
   "mimetype": "text/x-python",
   "name": "python",
   "nbconvert_exporter": "python",
   "pygments_lexer": "ipython3",
   "version": "3.7.6"
  }
 },
 "nbformat": 4,
 "nbformat_minor": 4
}
