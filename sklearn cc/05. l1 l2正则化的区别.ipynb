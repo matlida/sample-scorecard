{
 "cells": [
  {
   "cell_type": "markdown",
   "metadata": {},
   "source": [
    "＃＃　l1 l2正则化的区别："
   ]
  },
  {
   "cell_type": "code",
   "execution_count": 15,
   "metadata": {},
   "outputs": [],
   "source": [
    "from sklearn.linear_model import LogisticRegression as LR\n",
    "from sklearn.datasets import load_breast_cancer\n",
    "import numpy as np\n",
    "import matplotlib as plt\n",
    "from sklearn.model_selection import train_test_split\n",
    "#from sklearn.mertics import accuracy_score\n"
   ]
  },
  {
   "cell_type": "code",
   "execution_count": 16,
   "metadata": {},
   "outputs": [
    {
     "data": {
      "text/plain": [
       "(569, 30)"
      ]
     },
     "execution_count": 16,
     "metadata": {},
     "output_type": "execute_result"
    }
   ],
   "source": [
    "data = load_breast_cancer()\n",
    "x = data.data\n",
    "y =  data.target\n",
    "data.data.shape\n"
   ]
  },
  {
   "cell_type": "code",
   "execution_count": 19,
   "metadata": {},
   "outputs": [
    {
     "name": "stdout",
     "output_type": "stream",
     "text": [
      "[[ 4.01116827  0.03204786 -0.13876329 -0.01621969  0.          0.\n",
      "   0.          0.          0.          0.          0.          0.5056607\n",
      "   0.         -0.07126106  0.          0.          0.          0.\n",
      "   0.          0.          0.         -0.2460175  -0.1285869  -0.01440917\n",
      "   0.          0.         -2.03042452  0.          0.          0.        ]]\n"
     ]
    }
   ],
   "source": [
    "Irl1 = LR(penalty=\"l1\",solver = \"liblinear\",C=0.5,max_iter = 1000)\n",
    "Irl2 = LR(penalty=\"l2\",solver = \"liblinear\",C=0.5,max_iter = 1000)\n",
    "Irl1 = Irl1.fit(x,y)\n",
    "print(Irl1.coef_)\n"
   ]
  },
  {
   "cell_type": "code",
   "execution_count": 20,
   "metadata": {},
   "outputs": [
    {
     "data": {
      "text/plain": [
       "array([10])"
      ]
     },
     "execution_count": 20,
     "metadata": {},
     "output_type": "execute_result"
    }
   ],
   "source": [
    "(Irl1.coef_ !=0).sum(axis=1)"
   ]
  },
  {
   "cell_type": "code",
   "execution_count": 22,
   "metadata": {},
   "outputs": [
    {
     "data": {
      "text/plain": [
       "array([[ 1.61541411e+00,  1.02300859e-01,  4.79634999e-02,\n",
       "        -4.45030890e-03, -9.43136469e-02, -3.01439405e-01,\n",
       "        -4.56192113e-01, -2.22484448e-01, -1.35800316e-01,\n",
       "        -1.93953254e-02,  1.60057189e-02,  8.84862500e-01,\n",
       "         1.19637597e-01, -9.46955296e-02, -9.82838672e-03,\n",
       "        -2.36327058e-02, -5.71011111e-02, -2.70319142e-02,\n",
       "        -2.77745541e-02,  2.15950986e-04,  1.26261246e+00,\n",
       "        -3.01767368e-01, -1.72676431e-01, -2.21705021e-02,\n",
       "        -1.73511093e-01, -8.79035647e-01, -1.16340871e+00,\n",
       "        -4.27935079e-01, -4.21045045e-01, -8.69853368e-02]])"
      ]
     },
     "execution_count": 22,
     "metadata": {},
     "output_type": "execute_result"
    }
   ],
   "source": [
    "Irl2 = Irl2.fit(x,y)\n",
    "Irl2.coef_"
   ]
  },
  {
   "cell_type": "code",
   "execution_count": 23,
   "metadata": {},
   "outputs": [
    {
     "data": {
      "text/plain": [
       "array([30])"
      ]
     },
     "execution_count": 23,
     "metadata": {},
     "output_type": "execute_result"
    }
   ],
   "source": [
    "(Irl２.coef_ !=0).sum(axis=1)"
   ]
  },
  {
   "cell_type": "code",
   "execution_count": 28,
   "metadata": {},
   "outputs": [],
   "source": [
    "from sklearn.metrics import accuracy_score"
   ]
  },
  {
   "cell_type": "code",
   "execution_count": null,
   "metadata": {},
   "outputs": [],
   "source": [
    "# 画出两种正则化 的学习曲线，对比一下"
   ]
  },
  {
   "cell_type": "code",
   "execution_count": 32,
   "metadata": {},
   "outputs": [],
   "source": [
    "l1 = []\n",
    "l2 = []\n",
    "l1test = []\n",
    "l2test = []\n",
    "Xtrain,Xtest,Ytrain,Ytest = train_test_split(x,y,test_size = 0.3,random_state=420)\n",
    "for i in np.linspace(0.05,1,19):\n",
    "    Irl1 = LR(penalty=\"l1\",solver = \"liblinear\",C =  i ,max_iter = 1000)\n",
    "    Irl2 = LR(penalty=\"l2\",solver = \"liblinear\",C =  i ,max_iter = 1000)\n",
    "    Irl1 = Irl1.fit(Xtrain,Ytrain)\n",
    "    l1.append(accuracy_score(Irl1.predict(Xtrain),Ytrain))\n",
    "    l1test.append(accuracy_score(Irl1.predict(Xtest),Ytest))\n",
    "    \n",
    "    Irl2 = Irl2.fit(Xtrain,Ytrain)\n",
    "    l2.append(accuracy_score(Irl2.predict(Xtrain),Ytrain))\n",
    "    l2test.append(accuracy_score(Irl2.predict(Xtest),Ytest))\n"
   ]
  },
  {
   "cell_type": "code",
   "execution_count": 36,
   "metadata": {},
   "outputs": [],
   "source": [
    "import matplotlib.pyplot as plt"
   ]
  },
  {
   "cell_type": "code",
   "execution_count": 38,
   "metadata": {},
   "outputs": [
    {
     "data": {
      "image/png": "[encoded data removed]",
      "text/plain": [
       "<Figure size 432x432 with 1 Axes>"
      ]
     },
     "metadata": {
      "needs_background": "light"
     },
     "output_type": "display_data"
    }
   ],
   "source": [
    "graph = [l1,l2,l1test,l2test]    \n",
    "color = [\"green\",\"black\",\"lightgreen\",\"gray\"]\n",
    "label = [\"l1\",\"l2\",\"l1test\",\"l2test\"]\n",
    "\n",
    "plt.figure(figsize = (6,6))\n",
    "for i in range(len(graph)):\n",
    "    plt.plot(np.linspace(0.05,1,19),graph[i],color[i],label=label[i])\n",
    "    plt.legend(loc = 4 )\n",
    "plt.show()"
   ]
  },
  {
   "cell_type": "code",
   "execution_count": null,
   "metadata": {},
   "outputs": [],
   "source": []
  },
  {
   "cell_type": "code",
   "execution_count": null,
   "metadata": {},
   "outputs": [],
   "source": []
  },
  {
   "cell_type": "code",
   "execution_count": 39,
   "metadata": {},
   "outputs": [],
   "source": [
    "from sklearn.linear_model import LogisticRegression as LR\n",
    "from sklearn.datasets import load_breast_cancer\n",
    "import numpy as np\n",
    "from sklearn.model_selection import cross_val_score\n",
    "from sklearn.feature_selection import SelectFromModel"
   ]
  },
  {
   "cell_type": "code",
   "execution_count": 40,
   "metadata": {},
   "outputs": [
    {
     "data": {
      "text/plain": [
       "(569, 30)"
      ]
     },
     "execution_count": 40,
     "metadata": {},
     "output_type": "execute_result"
    }
   ],
   "source": [
    "data = load_breast_cancer()\n",
    "data.data.shape"
   ]
  },
  {
   "cell_type": "code",
   "execution_count": 55,
   "metadata": {},
   "outputs": [
    {
     "data": {
      "text/plain": [
       "0.9508998790078644"
      ]
     },
     "execution_count": 55,
     "metadata": {},
     "output_type": "execute_result"
    }
   ],
   "source": [
    "LR_ = LR(solver=\"liblinear\",C = 0.9,random_state = 420)\n",
    "cross_val_score(LR_,data.data,data.target,cv=10).mean()\n"
   ]
  },
  {
   "cell_type": "code",
   "execution_count": 53,
   "metadata": {},
   "outputs": [
    {
     "data": {
      "text/plain": [
       "0.9368323826808401"
      ]
     },
     "execution_count": 53,
     "metadata": {},
     "output_type": "execute_result"
    }
   ],
   "source": [
    "X_embedbed = SelectFromModel(LR_,norm_order = 1).fit_transform(data.data,data.target)\n",
    "X_embedbed.shape\n",
    "cross_val_score(LR_,X_embedbed,data.target,cv=10).mean()"
   ]
  },
  {
   "cell_type": "code",
   "execution_count": null,
   "metadata": {},
   "outputs": [],
   "source": []
  }
 ],
 "metadata": {
  "kernelspec": {
   "display_name": "Python 3",
   "language": "python",
   "name": "python3"
  },
  "language_info": {
   "codemirror_mode": {
    "name": "ipython",
    "version": 3
   },
   "file_extension": ".py",
   "mimetype": "text/x-python",
   "name": "python",
   "nbconvert_exporter": "python",
   "pygments_lexer": "ipython3",
   "version": "3.7.4"
  }
 },
 "nbformat": 4,
 "nbformat_minor": 4
}
