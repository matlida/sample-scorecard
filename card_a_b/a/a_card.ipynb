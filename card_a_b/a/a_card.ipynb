{
 "cells": [
  {
   "cell_type": "code",
   "execution_count": 8,
   "metadata": {},
   "outputs": [
    {
     "name": "stderr",
     "output_type": "stream",
     "text": [
      "ERROR:root:File `\"'C:\\\\Python.py\"` not found.\n"
     ]
    }
   ],
   "source": [
    "%run 'C:\\Python jupyter\\a_b\\custom_score_card_func_v2.py'"
   ]
  },
  {
   "cell_type": "code",
   "execution_count": 6,
   "metadata": {
    "id": "ADD97499E9B14E6086A2B56A5E1EC5BE"
   },
   "outputs": [],
   "source": [
    "from dateutil.relativedelta import relativedelta\n",
    "from statsmodels.stats.outliers_influence import variance_inflation_factor\n",
    "from statsmodels.api import Logit\n",
    "from sklearn.metrics import roc_auc_score\n",
    "from sklearn.feature_extraction import DictVectorizer\n",
    "from sklearn.ensemble import GradientBoostingClassifier,RandomForestClassifier"
   ]
  },
  {
   "cell_type": "code",
   "execution_count": 24,
   "metadata": {},
   "outputs": [],
   "source": [
    "import pandas as pd"
   ]
  },
  {
   "cell_type": "markdown",
   "metadata": {
    "id": "61F286279C3C406A93D613ED3C50C946",
    "mdEditEnable": false
   },
   "source": [
    "获取数据"
   ]
  },
  {
   "cell_type": "code",
   "execution_count": 9,
   "metadata": {
    "id": "1C3534ED898C4EFB86DEC3E18D845797"
   },
   "outputs": [],
   "source": [
    "data = pd.read_excel(r'C:\\Python jupyter\\a_b\\a\\LoanStats_2018Q3.xlsx')"
   ]
  },
  {
   "cell_type": "code",
   "execution_count": 10,
   "metadata": {},
   "outputs": [],
   "source": [
    "pd.set_option('display.max_columns', None)\n",
    "pd.set_option('display.max_rows', None)\n",
    "pd.Series(data.columns).to_clipboard()"
   ]
  },
  {
   "cell_type": "markdown",
   "metadata": {
    "id": "5147E1550AE94C52B8DEE85A5CCF09F0",
    "mdEditEnable": false
   },
   "source": [
    "删除部分字段，删除空行、重复行"
   ]
  },
  {
   "cell_type": "code",
   "execution_count": 11,
   "metadata": {
    "id": "BC945891E9534C7E92489764833D7713"
   },
   "outputs": [],
   "source": [
    "#删除贷后字段\n",
    "cols_after_loan=['sub_grade','grade','initial_list_status','out_prncp','out_prncp_inv',\n",
    "                 'total_pymnt','total_pymnt_inv','total_rec_prncp','total_rec_int',\n",
    "                 'total_rec_late_fee','recoveries','collection_recovery_fee',\n",
    "                 'last_pymnt_d','last_pymnt_amnt','last_credit_pull_d',\n",
    "                 'collections_12_mths_ex_med','policy_code','disbursement_method']\n",
    "data=data.drop(columns=cols_after_loan)                 \n",
    "#删除不便处理的字段，如职位、借款意图（事实上这两个字段包含很重要的信息.但不好处理）\n",
    "cols_hard=['emp_title','title']\n",
    "data=data.drop(columns=cols_hard)"
   ]
  },
  {
   "cell_type": "code",
   "execution_count": 12,
   "metadata": {
    "id": "BC945891E9534C7E92489764833D7713"
   },
   "outputs": [],
   "source": [
    "#删除缺失率0.9+的字段\n",
    "cols_null=[] \n",
    "for col_null in data.columns:\n",
    "    if data[col_null].count() / data.shape[0] < 0.9:\n",
    "        cols_null.append(col_null)\n",
    "data=data.drop(columns=cols_null)"
   ]
  },
  {
   "cell_type": "code",
   "execution_count": 13,
   "metadata": {},
   "outputs": [],
   "source": [
    "pd.Series(data.columns).to_clipboard()"
   ]
  },
  {
   "cell_type": "code",
   "execution_count": 14,
   "metadata": {
    "id": "BC945891E9534C7E92489764833D7713"
   },
   "outputs": [],
   "source": [
    "#删除常量字段（字段某个取值占比大于95%）\n",
    "#选取95%的原因：之后使用卡方分箱处理数据，分箱后的一个要求是单箱样本数占比大于等于5%；\n",
    "cols_constant=[]\n",
    "for col_constant in data.columns:\n",
    "    if data[col_constant].value_counts(dropna=False,normalize=True).max()>0.95:\n",
    "        cols_constant.append(col_constant)\n",
    "data=data.drop(columns=cols_constant)"
   ]
  },
  {
   "cell_type": "code",
   "execution_count": 15,
   "metadata": {
    "id": "BC945891E9534C7E92489764833D7713"
   },
   "outputs": [],
   "source": [
    "#删除空行，删除重复行\n",
    "data=data.drop_duplicates().dropna(axis=0,how='all') "
   ]
  },
  {
   "cell_type": "code",
   "execution_count": 16,
   "metadata": {
    "id": "456C9898A64F42628D23DAB982060BB4"
   },
   "outputs": [
    {
     "data": {
      "text/html": [
       "<div>\n",
       "<style scoped>\n",
       "    .dataframe tbody tr th:only-of-type {\n",
       "        vertical-align: middle;\n",
       "    }\n",
       "\n",
       "    .dataframe tbody tr th {\n",
       "        vertical-align: top;\n",
       "    }\n",
       "\n",
       "    .dataframe thead th {\n",
       "        text-align: right;\n",
       "    }\n",
       "</style>\n",
       "<table border=\"1\" class=\"dataframe\">\n",
       "  <thead>\n",
       "    <tr style=\"text-align: right;\">\n",
       "      <th></th>\n",
       "      <th>id</th>\n",
       "      <th>loan_amnt</th>\n",
       "      <th>funded_amnt</th>\n",
       "      <th>funded_amnt_inv</th>\n",
       "      <th>term</th>\n",
       "      <th>int_rate</th>\n",
       "      <th>installment</th>\n",
       "      <th>emp_length</th>\n",
       "      <th>home_ownership</th>\n",
       "      <th>annual_inc</th>\n",
       "      <th>verification_status</th>\n",
       "      <th>issue_d</th>\n",
       "      <th>loan_status</th>\n",
       "      <th>purpose</th>\n",
       "      <th>zip_code</th>\n",
       "      <th>addr_state</th>\n",
       "      <th>dti</th>\n",
       "      <th>delinq_2yrs</th>\n",
       "      <th>earliest_cr_line</th>\n",
       "      <th>inq_last_6mths</th>\n",
       "      <th>open_acc</th>\n",
       "      <th>pub_rec</th>\n",
       "      <th>revol_bal</th>\n",
       "      <th>revol_util</th>\n",
       "      <th>total_acc</th>\n",
       "      <th>pub_rec_bankruptcies</th>\n",
       "    </tr>\n",
       "  </thead>\n",
       "  <tbody>\n",
       "    <tr>\n",
       "      <th>0</th>\n",
       "      <td>1</td>\n",
       "      <td>5000</td>\n",
       "      <td>5000</td>\n",
       "      <td>4975.0</td>\n",
       "      <td>36 months</td>\n",
       "      <td>0.1065</td>\n",
       "      <td>162.87</td>\n",
       "      <td>10+ years</td>\n",
       "      <td>RENT</td>\n",
       "      <td>24000.0</td>\n",
       "      <td>Verified</td>\n",
       "      <td>2011-12-01</td>\n",
       "      <td>Fully Paid</td>\n",
       "      <td>credit_card</td>\n",
       "      <td>860xx</td>\n",
       "      <td>AZ</td>\n",
       "      <td>27.65</td>\n",
       "      <td>0</td>\n",
       "      <td>1985-01-01</td>\n",
       "      <td>1.0</td>\n",
       "      <td>3.0</td>\n",
       "      <td>0.0</td>\n",
       "      <td>13648.0</td>\n",
       "      <td>0.837</td>\n",
       "      <td>9</td>\n",
       "      <td>0.0</td>\n",
       "    </tr>\n",
       "    <tr>\n",
       "      <th>1</th>\n",
       "      <td>2</td>\n",
       "      <td>2500</td>\n",
       "      <td>2500</td>\n",
       "      <td>2500.0</td>\n",
       "      <td>60 months</td>\n",
       "      <td>0.1527</td>\n",
       "      <td>59.83</td>\n",
       "      <td>&lt; 1 year</td>\n",
       "      <td>RENT</td>\n",
       "      <td>30000.0</td>\n",
       "      <td>Source Verified</td>\n",
       "      <td>2011-12-01</td>\n",
       "      <td>Charged Off</td>\n",
       "      <td>car</td>\n",
       "      <td>309xx</td>\n",
       "      <td>GA</td>\n",
       "      <td>1.00</td>\n",
       "      <td>0</td>\n",
       "      <td>1999-04-01</td>\n",
       "      <td>5.0</td>\n",
       "      <td>3.0</td>\n",
       "      <td>0.0</td>\n",
       "      <td>1687.0</td>\n",
       "      <td>0.094</td>\n",
       "      <td>4</td>\n",
       "      <td>0.0</td>\n",
       "    </tr>\n",
       "    <tr>\n",
       "      <th>2</th>\n",
       "      <td>3</td>\n",
       "      <td>2400</td>\n",
       "      <td>2400</td>\n",
       "      <td>2400.0</td>\n",
       "      <td>36 months</td>\n",
       "      <td>0.1596</td>\n",
       "      <td>84.33</td>\n",
       "      <td>10+ years</td>\n",
       "      <td>RENT</td>\n",
       "      <td>12252.0</td>\n",
       "      <td>Not Verified</td>\n",
       "      <td>2011-12-01</td>\n",
       "      <td>Fully Paid</td>\n",
       "      <td>small_business</td>\n",
       "      <td>606xx</td>\n",
       "      <td>IL</td>\n",
       "      <td>8.72</td>\n",
       "      <td>0</td>\n",
       "      <td>2001-11-01</td>\n",
       "      <td>2.0</td>\n",
       "      <td>2.0</td>\n",
       "      <td>0.0</td>\n",
       "      <td>2956.0</td>\n",
       "      <td>0.985</td>\n",
       "      <td>10</td>\n",
       "      <td>0.0</td>\n",
       "    </tr>\n",
       "    <tr>\n",
       "      <th>3</th>\n",
       "      <td>4</td>\n",
       "      <td>10000</td>\n",
       "      <td>10000</td>\n",
       "      <td>10000.0</td>\n",
       "      <td>36 months</td>\n",
       "      <td>0.1349</td>\n",
       "      <td>339.31</td>\n",
       "      <td>10+ years</td>\n",
       "      <td>RENT</td>\n",
       "      <td>49200.0</td>\n",
       "      <td>Source Verified</td>\n",
       "      <td>2011-12-01</td>\n",
       "      <td>Fully Paid</td>\n",
       "      <td>other</td>\n",
       "      <td>917xx</td>\n",
       "      <td>CA</td>\n",
       "      <td>20.00</td>\n",
       "      <td>0</td>\n",
       "      <td>1996-02-01</td>\n",
       "      <td>1.0</td>\n",
       "      <td>10.0</td>\n",
       "      <td>0.0</td>\n",
       "      <td>5598.0</td>\n",
       "      <td>0.210</td>\n",
       "      <td>37</td>\n",
       "      <td>0.0</td>\n",
       "    </tr>\n",
       "    <tr>\n",
       "      <th>4</th>\n",
       "      <td>5</td>\n",
       "      <td>3000</td>\n",
       "      <td>3000</td>\n",
       "      <td>3000.0</td>\n",
       "      <td>60 months</td>\n",
       "      <td>0.1269</td>\n",
       "      <td>67.79</td>\n",
       "      <td>1 year</td>\n",
       "      <td>RENT</td>\n",
       "      <td>80000.0</td>\n",
       "      <td>Source Verified</td>\n",
       "      <td>2011-12-01</td>\n",
       "      <td>Fully Paid</td>\n",
       "      <td>other</td>\n",
       "      <td>972xx</td>\n",
       "      <td>OR</td>\n",
       "      <td>17.94</td>\n",
       "      <td>0</td>\n",
       "      <td>1996-01-01</td>\n",
       "      <td>0.0</td>\n",
       "      <td>15.0</td>\n",
       "      <td>0.0</td>\n",
       "      <td>27783.0</td>\n",
       "      <td>0.539</td>\n",
       "      <td>38</td>\n",
       "      <td>0.0</td>\n",
       "    </tr>\n",
       "  </tbody>\n",
       "</table>\n",
       "</div>"
      ],
      "text/plain": [
       "   id  loan_amnt  funded_amnt  funded_amnt_inv        term  int_rate  \\\n",
       "0   1       5000         5000           4975.0   36 months    0.1065   \n",
       "1   2       2500         2500           2500.0   60 months    0.1527   \n",
       "2   3       2400         2400           2400.0   36 months    0.1596   \n",
       "3   4      10000        10000          10000.0   36 months    0.1349   \n",
       "4   5       3000         3000           3000.0   60 months    0.1269   \n",
       "\n",
       "   installment emp_length home_ownership  annual_inc verification_status  \\\n",
       "0       162.87  10+ years           RENT     24000.0            Verified   \n",
       "1        59.83   < 1 year           RENT     30000.0     Source Verified   \n",
       "2        84.33  10+ years           RENT     12252.0        Not Verified   \n",
       "3       339.31  10+ years           RENT     49200.0     Source Verified   \n",
       "4        67.79     1 year           RENT     80000.0     Source Verified   \n",
       "\n",
       "     issue_d  loan_status         purpose zip_code addr_state    dti  \\\n",
       "0 2011-12-01   Fully Paid     credit_card    860xx         AZ  27.65   \n",
       "1 2011-12-01  Charged Off             car    309xx         GA   1.00   \n",
       "2 2011-12-01   Fully Paid  small_business    606xx         IL   8.72   \n",
       "3 2011-12-01   Fully Paid           other    917xx         CA  20.00   \n",
       "4 2011-12-01   Fully Paid           other    972xx         OR  17.94   \n",
       "\n",
       "  delinq_2yrs earliest_cr_line  inq_last_6mths  open_acc  pub_rec  revol_bal  \\\n",
       "0           0       1985-01-01             1.0       3.0      0.0    13648.0   \n",
       "1           0       1999-04-01             5.0       3.0      0.0     1687.0   \n",
       "2           0       2001-11-01             2.0       2.0      0.0     2956.0   \n",
       "3           0       1996-02-01             1.0      10.0      0.0     5598.0   \n",
       "4           0       1996-01-01             0.0      15.0      0.0    27783.0   \n",
       "\n",
       "   revol_util total_acc  pub_rec_bankruptcies  \n",
       "0       0.837         9                   0.0  \n",
       "1       0.094         4                   0.0  \n",
       "2       0.985        10                   0.0  \n",
       "3       0.210        37                   0.0  \n",
       "4       0.539        38                   0.0  "
      ]
     },
     "execution_count": 16,
     "metadata": {},
     "output_type": "execute_result"
    }
   ],
   "source": [
    "data.head()\n",
    "#一些变量需要进一步转换为便于处理的类型，特别是object，可能混合了多种数据类型"
   ]
  },
  {
   "cell_type": "markdown",
   "metadata": {
    "id": "40E156567DC14D68B76212B5C9B49F28",
    "mdEditEnable": false
   },
   "source": [
    "转换数据类型，暂不处理缺失、异常"
   ]
  },
  {
   "cell_type": "code",
   "execution_count": null,
   "metadata": {
    "id": "50B703CEEC704CDEB1726BB27B61D964",
    "mdEditEnable": false
   },
   "outputs": [],
   "source": [
    "#申请评分卡开发所用数据的借款期限不宜过长，故在60期和36期中选用36期\n",
    "data=data[data['term']==' 36 months']\n",
    "data['term']=data.term.map(lambda x:int(x.replace(' months','')))\n",
    "data['int_rate']=data.int_rate.map(lambda x:float(x.replace('%',''))/100)"
   ]
  },
  {
   "cell_type": "code",
   "execution_count": 57,
   "metadata": {
    "id": "50B703CEEC704CDEB1726BB27B61D964",
    "mdEditEnable": false
   },
   "outputs": [],
   "source": [
    "#工作年限转换object类型为数值\n",
    "def emp_length_num(x):\n",
    "    if str(x)=='nan':return np.nan\n",
    "    elif '< 1' in x:return 0\n",
    "    elif x=='1 year':return 1\n",
    "    elif '10+' in x:return 11\n",
    "    else :return int(x.replace('years',''))\n",
    "data['emp_length']=data.emp_length.map(lambda x:emp_length_num(x))"
   ]
  },
  {
   "cell_type": "code",
   "execution_count": 18,
   "metadata": {
    "id": "50B703CEEC704CDEB1726BB27B61D964",
    "mdEditEnable": false
   },
   "outputs": [],
   "source": [
    "data['y']=data['loan_status'].map(lambda x : 0 if 'Fully Paid' in x else 1)#目标变量：坏样本标记1，好样本标记0"
   ]
  },
  {
   "cell_type": "code",
   "execution_count": null,
   "metadata": {
    "id": "50B703CEEC704CDEB1726BB27B61D964",
    "mdEditEnable": false
   },
   "outputs": [],
   "source": [
    "#变量delinq_2yrs，过去两年逾期次数，当前数据类型object，理应为数值型；\n",
    "#查看详情：set(data['delinq_2yrs'])；\n",
    "#发现含有多种数据类型，且有个错误值'Jan-97'；将其数据类型处理为float，错误值空缺；\n",
    "data['delinq_2yrs']=data['delinq_2yrs'].apply(pd.to_numeric,errors='coerce')\n",
    "\n",
    "#变量revol_bal，所有信用卡可用余额，当前数据类型object，理应为数值型；\n",
    "#查看详情：df1012=data['revol_bal'].map(lambda x:type(x).__name__)#每个元素映射为其数据类型；\n",
    "#          set(df1012)#有int，str两种类型；\n",
    "#查看数据类型为str的数据：data['revol_bal'][list(df1012[df1012=='str'].index)]#结果仍然是数值；\n",
    "#故，判断该变量混合两种数据类型的原因是：部分数值以str格式出现，需要转换float；\n",
    "#转换报错发现错误值'25.70%'，空缺代替；\n",
    "data['revol_bal']=data['revol_bal'].apply(pd.to_numeric,errors='coerce')\n",
    "\n",
    "#使用与处理变量revol_bal相似的方法，变量revol_util混合多种数据类型的详情及其处理方式：\n",
    "#float：全为np.nan，维持；str：百分比形式的数值，转换为float数值\n",
    "data['revol_util']=data['revol_util'].map(lambda x:float(x.replace('%',''))/100,na_action='ignore')\n",
    "\n",
    "#使用与处理变量revol_bal相似的方法；变量total_acc混合多种数据类型的详情及其处理方式：\n",
    "#int：转换float；float：含np.nan和数值，维持；str：含str格式的数值，转换为float数值，错误值'f'以no.nan代替；\n",
    "data['total_acc']=data['total_acc'].apply(pd.to_numeric,errors='coerce')\n",
    "\n",
    "#变量earliest_cr_line,issue_d：float全为np.nan；str为字符串格式的日期，转换为日期格式\n",
    "data[['earliest_cr_line','issue_d']]=data[['earliest_cr_line','issue_d']].apply(pd.to_datetime)"
   ]
  },
  {
   "cell_type": "markdown",
   "metadata": {
    "id": "917532CF19BF440FA48CAAE4F157F099",
    "mdEditEnable": false
   },
   "source": [
    "使用现有变量构建新变量"
   ]
  },
  {
   "cell_type": "code",
   "execution_count": 20,
   "metadata": {
    "id": "F6DDF84D3860448EBAFF38650BCDAC3D"
   },
   "outputs": [],
   "source": [
    "#负债收入比\n",
    "data['pnt_debt']=data.loan_amnt/data.annual_inc"
   ]
  },
  {
   "cell_type": "code",
   "execution_count": 21,
   "metadata": {
    "id": "F6DDF84D3860448EBAFF38650BCDAC3D"
   },
   "outputs": [],
   "source": [
    "#最早借款账户开立日到本次申请贷款的时间跨度，月计\n",
    "def gap_months(late,early):\n",
    "    if str(late)=='NaT' or str(early)=='NaT':return np.nan\n",
    "    elif late<early:return 0\n",
    "    else:\n",
    "        gap=relativedelta(late,early)\n",
    "        months=gap.years*12+gap.months\n",
    "        return months\n",
    "data['earliest_to_issue']=data.apply(lambda x:gap_months(x.issue_d,x.earliest_cr_line),axis=1)"
   ]
  },
  {
   "cell_type": "markdown",
   "metadata": {
    "id": "DD00002EE5E14B908059EB60E06FBA92",
    "mdEditEnable": false
   },
   "source": [
    "图示数据分布：\n",
    "离散变量：缺失；变量各取值下样本数、占总样本数比例；同一取值下好、坏样本占比；\n",
    "连续变量：缺失；极端值；概率估计；"
   ]
  },
  {
   "cell_type": "code",
   "execution_count": 71,
   "metadata": {
    "id": "83612473EAAA462FAA70ED3C1CFDD54D",
    "mdEditEnable": false
   },
   "outputs": [],
   "source": [
    "#离散变量\n",
    "cols_discrete=['emp_length', 'home_ownership','verification_status','purpose', \n",
    "               'zip_code','addr_state']\n",
    "#连续变量\n",
    "cols_continue=['loan_amnt', 'funded_amnt', 'funded_amnt_inv','int_rate','installment',\n",
    "              'annual_inc','dti','delinq_2yrs', 'inq_last_6mths', 'open_acc','pub_rec',\n",
    "               'revol_bal', 'revol_util', 'total_acc','pub_rec_bankruptcies','pnt_debt',\n",
    "               'earliest_to_issue']\n",
    "#日期变量（已用于构建新变量，不再使用）\n",
    "cols_date=['issue_d','earliest_cr_line']\n",
    "#目标变量：'y'"
   ]
  },
  {
   "cell_type": "code",
   "execution_count": 9,
   "metadata": {
    "collapsed": true,
    "id": "E47A001F8D5A4B108B96A765F00FFA88",
    "jupyter": {
     "outputs_hidden": true
    }
   },
   "outputs": [
    {
     "name": "stderr",
     "output_type": "stream",
     "text": [
      "/opt/conda/lib/python3.6/site-packages/matplotlib/font_manager.py:1241: UserWarning: findfont: Font family ['sans-serif'] not found. Falling back to DejaVu Sans.\n",
      "  (prop.get_family(), self.defaultFamily[fontext]))\n",
      "/opt/conda/lib/python3.6/site-packages/matplotlib/font_manager.py:1241: UserWarning: findfont: Font family ['sans-serif'] not found. Falling back to DejaVu Sans.\n",
      "  (prop.get_family(), self.defaultFamily[fontext]))\n"
     ]
    },
    {
     "data": {
      "text/html": [
       "<img src=\"https://cdn.kesci.com/rt_upload/E47A001F8D5A4B108B96A765F00FFA88/po2ul2n54r.png\">"
      ],
      "text/plain": [
       "<Figure size 864x1728 with 12 Axes>"
      ]
     },
     "metadata": {
      "needs_background": "light"
     },
     "output_type": "display_data"
    }
   ],
   "source": [
    "#图示离散数据原始分布，可用于参照以处理缺失，调整卡方分箱结果\n",
    "#以emp_length为例，横向条形图，nan：835——2.65%，表示变量emp_length下，空值样本835，占比约2.65%；\n",
    "#横向堆积条形图：11:87.94%，12.06%，表示变量emp_length取值11下，好坏样本各占比87.94%、12.06%；\n",
    "plot_discrete(data,cols_discrete,'y')"
   ]
  },
  {
   "cell_type": "code",
   "execution_count": 10,
   "metadata": {
    "collapsed": true,
    "id": "2B00174A67CD4E5B89A4B412E48ADB5F",
    "jupyter": {
     "outputs_hidden": true
    }
   },
   "outputs": [
    {
     "data": {
      "text/html": [
       "<img src=\"https://cdn.kesci.com/rt_upload/2B00174A67CD4E5B89A4B412E48ADB5F/po2ulvyf4v.png\">"
      ],
      "text/plain": [
       "<Figure size 864x5184 with 72 Axes>"
      ]
     },
     "metadata": {
      "needs_background": "light"
     },
     "output_type": "display_data"
    }
   ],
   "source": [
    "#图示连续数据原始分布，可用于参照以处理缺失，调整卡方分箱结果\n",
    "#以变量loan_amnt为例，从左到右，依次为箱线图、按目标变量y取值分组分别绘制箱线图、直方图+核密度估计图、\n",
    "#按目标变量y取值分组分别绘直方图+核密度估计图\n",
    "plot_continue(data,cols_continue,'y')"
   ]
  },
  {
   "cell_type": "code",
   "execution_count": 31,
   "metadata": {
    "id": "D06A89CC922F48418C9A1F9C90877C51"
   },
   "outputs": [
    {
     "data": {
      "text/html": [
       "<div>\n",
       "<style scoped>\n",
       "    .dataframe tbody tr th:only-of-type {\n",
       "        vertical-align: middle;\n",
       "    }\n",
       "\n",
       "    .dataframe tbody tr th {\n",
       "        vertical-align: top;\n",
       "    }\n",
       "\n",
       "    .dataframe thead th {\n",
       "        text-align: right;\n",
       "    }\n",
       "</style>\n",
       "<table border=\"1\" class=\"dataframe\">\n",
       "  <thead>\n",
       "    <tr style=\"text-align: right;\">\n",
       "      <th></th>\n",
       "      <th>NullOrNot</th>\n",
       "      <th>CntNotNull</th>\n",
       "      <th>CntNull</th>\n",
       "      <th>PntNull</th>\n",
       "    </tr>\n",
       "  </thead>\n",
       "  <tbody>\n",
       "    <tr>\n",
       "      <th>pub_rec_bankruptcies</th>\n",
       "      <td>True</td>\n",
       "      <td>30169.0</td>\n",
       "      <td>1365.0</td>\n",
       "      <td>0.043287</td>\n",
       "    </tr>\n",
       "    <tr>\n",
       "      <th>emp_length</th>\n",
       "      <td>True</td>\n",
       "      <td>30699.0</td>\n",
       "      <td>835.0</td>\n",
       "      <td>0.026479</td>\n",
       "    </tr>\n",
       "    <tr>\n",
       "      <th>revol_util</th>\n",
       "      <td>True</td>\n",
       "      <td>31448.0</td>\n",
       "      <td>86.0</td>\n",
       "      <td>0.002727</td>\n",
       "    </tr>\n",
       "    <tr>\n",
       "      <th>delinq_2yrs</th>\n",
       "      <td>True</td>\n",
       "      <td>31505.0</td>\n",
       "      <td>29.0</td>\n",
       "      <td>0.000920</td>\n",
       "    </tr>\n",
       "    <tr>\n",
       "      <th>inq_last_6mths</th>\n",
       "      <td>True</td>\n",
       "      <td>31505.0</td>\n",
       "      <td>29.0</td>\n",
       "      <td>0.000920</td>\n",
       "    </tr>\n",
       "    <tr>\n",
       "      <th>open_acc</th>\n",
       "      <td>True</td>\n",
       "      <td>31505.0</td>\n",
       "      <td>29.0</td>\n",
       "      <td>0.000920</td>\n",
       "    </tr>\n",
       "    <tr>\n",
       "      <th>pub_rec</th>\n",
       "      <td>True</td>\n",
       "      <td>31505.0</td>\n",
       "      <td>29.0</td>\n",
       "      <td>0.000920</td>\n",
       "    </tr>\n",
       "    <tr>\n",
       "      <th>total_acc</th>\n",
       "      <td>True</td>\n",
       "      <td>31505.0</td>\n",
       "      <td>29.0</td>\n",
       "      <td>0.000920</td>\n",
       "    </tr>\n",
       "    <tr>\n",
       "      <th>earliest_to_issue</th>\n",
       "      <td>True</td>\n",
       "      <td>31505.0</td>\n",
       "      <td>29.0</td>\n",
       "      <td>0.000920</td>\n",
       "    </tr>\n",
       "    <tr>\n",
       "      <th>annual_inc</th>\n",
       "      <td>True</td>\n",
       "      <td>31530.0</td>\n",
       "      <td>4.0</td>\n",
       "      <td>0.000127</td>\n",
       "    </tr>\n",
       "    <tr>\n",
       "      <th>pnt_debt</th>\n",
       "      <td>True</td>\n",
       "      <td>31530.0</td>\n",
       "      <td>4.0</td>\n",
       "      <td>0.000127</td>\n",
       "    </tr>\n",
       "  </tbody>\n",
       "</table>\n",
       "</div>"
      ],
      "text/plain": [
       "                      NullOrNot  CntNotNull  CntNull   PntNull\n",
       "pub_rec_bankruptcies       True     30169.0   1365.0  0.043287\n",
       "emp_length                 True     30699.0    835.0  0.026479\n",
       "revol_util                 True     31448.0     86.0  0.002727\n",
       "delinq_2yrs                True     31505.0     29.0  0.000920\n",
       "inq_last_6mths             True     31505.0     29.0  0.000920\n",
       "open_acc                   True     31505.0     29.0  0.000920\n",
       "pub_rec                    True     31505.0     29.0  0.000920\n",
       "total_acc                  True     31505.0     29.0  0.000920\n",
       "earliest_to_issue          True     31505.0     29.0  0.000920\n",
       "annual_inc                 True     31530.0      4.0  0.000127\n",
       "pnt_debt                   True     31530.0      4.0  0.000127"
      ]
     },
     "execution_count": 31,
     "metadata": {},
     "output_type": "execute_result"
    }
   ],
   "source": [
    "#变量缺失概览，只显示有缺失的变量\n",
    "view_null(data,cols=cols_discrete+cols_continue)"
   ]
  },
  {
   "cell_type": "markdown",
   "metadata": {
    "id": "E2FE2D722F8F4FDB9CDF64D405DAD1AE",
    "mdEditEnable": false
   },
   "source": [
    "缺失异常处理"
   ]
  },
  {
   "cell_type": "markdown",
   "metadata": {
    "id": "140C4275D27749C69D9695DF2CBF85D9"
   },
   "source": [
    "#### 之后的数据处理采用卡方分箱，其中一个要求是分箱后单箱占比大于等于5%；结合图示数据分布情况，在卡方分箱前，对缺失和异常进行如下处理：\n",
    "（data.to_csv('view_null.csv')，保存为csv文件并下载到本地，以便于了解缺失、异常的详细情况）\n",
    "\n",
    "样本异常：\n",
    "索引为38040的样本，多个字段存在异常或缺失，删除；\n",
    "\n",
    "离散变量缺失：\n",
    "emp_length：众数补缺；\n",
    "\n",
    "离散变量异常：未发现异常\n",
    "\n",
    "连续变量缺失：\n",
    "revol_bal：删除索引为38040的样本后，不再有缺失；\n",
    "\n",
    "pub_rec_bankruptcies：缺失1365，占比约4.33%，接近5%，使用-1补缺，卡方分箱时作特殊值处理，单独一组；\n",
    "\n",
    "revol_util：信用卡总额使用率，与revol_bal所有信用卡可用余额高度关联，revol_util缺失对应的revol_bal几乎都为0，\n",
    "\n",
    "revol_bal为0对应的revol_util多数为0或缺失，故revol_util缺失用0填充；\n",
    "\n",
    "annual_inc、pnt_debt：分布图示存在极端值，使用中位数补缺，相比均值补缺更合适；\n",
    "\n",
    "delinq_2yrs、inq_last_6mths、open_acc、pub_rec、total_acc、earliest_to_issue：索引为38040的样本删除后，\n",
    "\n",
    "这些变量缺失数量一致，且可判断相关缺失样本在这些字段同时出现缺失（判断代码未给出）；29个缺失中，26个为好样本，3个为坏样本；分布图示存在极端值；故这些变量使用各自好样本的非缺失值中位数填充；\n",
    "    \n",
    "连续变量异常：卡方分箱中处理；\n",
    "'''"
   ]
  },
  {
   "cell_type": "code",
   "execution_count": 72,
   "metadata": {
    "id": "7C86A51C5BC7430BB4377C601FCDAAF4"
   },
   "outputs": [],
   "source": [
    "data=data.drop(index=38040)\n",
    "data['pub_rec_bankruptcies']=data.pub_rec_bankruptcies.fillna(-1)\n",
    "data['emp_length']=data.emp_length.fillna(data.emp_length.value_counts().sort_values(ascending=False).index[0])\n",
    "data['revol_util']=data.revol_util.fillna(0)"
   ]
  },
  {
   "cell_type": "code",
   "execution_count": 73,
   "metadata": {
    "id": "7C86A51C5BC7430BB4377C601FCDAAF4"
   },
   "outputs": [],
   "source": [
    "val_fillna1=data[['pnt_debt','annual_inc']].median().to_dict()\n",
    "data[['pnt_debt','annual_inc']]=data[['pnt_debt','annual_inc']].fillna(val_fillna1)\n",
    "\n",
    "val_fillna2=data[['delinq_2yrs','inq_last_6mths','open_acc','earliest_to_issue',\n",
    "                'pub_rec','total_acc']][data.y==0].median(axis=0).to_dict()\n",
    "data[['delinq_2yrs','inq_last_6mths','open_acc','earliest_to_issue','pub_rec',\n",
    "      'total_acc']]=data[['delinq_2yrs','inq_last_6mths','open_acc','earliest_to_issue',\n",
    "                          'pub_rec','total_acc']].fillna(val_fillna2)"
   ]
  },
  {
   "cell_type": "code",
   "execution_count": 74,
   "metadata": {
    "id": "BF38A6B2372949A3A68A7542C713678E",
    "mdEditEnable": false
   },
   "outputs": [],
   "source": [
    "#连续变量异常处理\n",
    "#上四分位数high_quantile，下四分位数low_quantile，四分位距iqr=high_quantile - low_quantile；\n",
    "#异常与否的边界为：上边界thresh_high=high_quantile + 3*iqr ,下边界thresh_low=low_quantile - 3*iqr；\n",
    "#处理：如果某个值为异常值，则令其等于最近边界；\n",
    "\n",
    "#cols_not_handle内变量处理异常后，就变成了常量，故不处理\n",
    "cols_not_handle=['pub_rec','delinq_2yrs','pub_rec_bankruptcies']\n",
    "for col in cols_continue:\n",
    "    if col in cols_not_handle:continue\n",
    "    val_quantile=data[col].quantile([0.25,0.75]).to_dict()\n",
    "    low_quantile=val_quantile[0.25];high_quantile=val_quantile[0.75]\n",
    "    iqr=high_quantile - low_quantile\n",
    "    thresh_low=low_quantile - 3*iqr;thresh_high=high_quantile + 3*iqr\n",
    "    data[col]=data[col].map(lambda x:thresh_high if x>thresh_high else x)"
   ]
  },
  {
   "cell_type": "code",
   "execution_count": 75,
   "metadata": {
    "collapsed": true,
    "id": "FD5791A60F414F16B555115C91FBE9BF",
    "jupyter": {
     "outputs_hidden": true
    }
   },
   "outputs": [
    {
     "name": "stdout",
     "output_type": "stream",
     "text": [
      "<class 'pandas.core.frame.DataFrame'>\n",
      "Int64Index: 31533 entries, 0 to 42534\n",
      "Data columns (total 23 columns):\n",
      " #   Column                Non-Null Count  Dtype  \n",
      "---  ------                --------------  -----  \n",
      " 0   emp_length            31533 non-null  float64\n",
      " 1   home_ownership        31533 non-null  object \n",
      " 2   verification_status   31533 non-null  object \n",
      " 3   purpose               31533 non-null  object \n",
      " 4   zip_code              31533 non-null  object \n",
      " 5   addr_state            31533 non-null  object \n",
      " 6   loan_amnt             31533 non-null  float64\n",
      " 7   funded_amnt           31533 non-null  float64\n",
      " 8   funded_amnt_inv       31533 non-null  float64\n",
      " 9   int_rate              31533 non-null  float64\n",
      " 10  installment           31533 non-null  float64\n",
      " 11  annual_inc            31533 non-null  float64\n",
      " 12  dti                   31533 non-null  float64\n",
      " 13  delinq_2yrs           31533 non-null  float64\n",
      " 14  inq_last_6mths        31533 non-null  float64\n",
      " 15  open_acc              31533 non-null  float64\n",
      " 16  pub_rec               31533 non-null  float64\n",
      " 17  revol_bal             31533 non-null  float64\n",
      " 18  revol_util            31533 non-null  float64\n",
      " 19  total_acc             31533 non-null  float64\n",
      " 20  pub_rec_bankruptcies  31533 non-null  float64\n",
      " 21  pnt_debt              31533 non-null  float64\n",
      " 22  earliest_to_issue     31533 non-null  float64\n",
      "dtypes: float64(18), object(5)\n",
      "memory usage: 5.8+ MB\n"
     ]
    }
   ],
   "source": [
    "data[cols_discrete+cols_continue].info()#缺失和异常处理完成"
   ]
  },
  {
   "cell_type": "markdown",
   "metadata": {
    "id": "879D89F0C1BE46798E5EC69DBA72055B",
    "mdEditEnable": false
   },
   "source": [
    "#### 卡方分箱：变量和参数"
   ]
  },
  {
   "cell_type": "code",
   "execution_count": 76,
   "metadata": {
    "id": "7BEA98AA3E614A4F94D85B6D9D338485"
   },
   "outputs": [],
   "source": [
    "#分割数据为训练集、测试集:卡方分箱属于有监督分箱,故测试集不能与训练集一起处理,而是按训练集给出的规则分箱。\n",
    "train_data,test_data=train_test_split(data,random_state=19,test_size=0.4,stratify=data.y)\n",
    "\n",
    "#卡方分箱参数：\n",
    "max_intervals=8#最大分箱数\n",
    "min_pnt=0.05 #单箱样本数占样本总数最低比例\n",
    "\n",
    "#卡方分箱变量：离散变量var_discrete，分为三部分：\n",
    "#离散有序var_order、离散无序取值种类少var_discrete_less、离散无序取值种类多var_discrete_more；\n",
    "#多与少的界限为最大分箱数max_intervals；\n",
    "var_order=['emp_length']\n",
    "var_discrete=list(set(cols_discrete)-set(var_order))\n",
    "var_discrete_less=[]#取值种类数小于等于最大分箱数\n",
    "var_discrete_more=[]#取值种类数大于最大分箱数\n",
    "for var in var_discrete:\n",
    "    if len(set(train_data[var])) <= max_intervals:var_discrete_less.append(var)\n",
    "    else:var_discrete_more.append(var)\n",
    "    \n",
    "#卡方分箱变量：连续变量var_continue\n",
    "var_continue=cols_continue.copy()"
   ]
  },
  {
   "cell_type": "markdown",
   "metadata": {
    "id": "46F6ED477C174251AE1A063B2202068B",
    "mdEditEnable": false
   },
   "source": [
    "#### 卡方分箱：离散无序取值种类少变量、离散有序变量"
   ]
  },
  {
   "cell_type": "code",
   "execution_count": null,
   "metadata": {
    "collapsed": true,
    "id": "D6411F42D3B44CCC8411FF50169E8A94",
    "jupyter": {
     "outputs_hidden": true
    }
   },
   "outputs": [],
   "source": [
    "#离散有序变量取值根据期望有序性{变量取值：序值}(允许序值跳空)，构建新变量，并据此分组，分组完成后\n",
    "#得{变量取值：组标记};参与分组的组标记为0起始的整数，若有不参与分组的取值，序值以负数表达，以避免\n",
    "#与参与分组的组标记混淆；\n",
    "emp_length_order={i:i for i in set(train_data['emp_length'])}#{变量取值：序值}\n",
    "train_data['emp_length_order']=train_data['emp_length'].map(emp_length_order)\n",
    "\n",
    "#name_var_order=[var+'_order']，离散有序变量名加'_order'后缀为新变量名；\n",
    "#var_val_order={新变量名:{变量取值:序值}}；\n",
    "#mono_discrete={新变量名:{'shape':期望单调性,'u':期望单调性不满足时是否允许U形}}，支持参数取值见函数monotone_badrate；\n",
    "name_var_order=['emp_length_order']\n",
    "var_val_order={'emp_length_order':emp_length_order}#用于更新分箱规则，始终为{变量原始取值:箱标记}\n",
    "mono_discrete={'emp_length_order':{'shape':'mono','u':'u'}}\n",
    "\n",
    "#调用针对离散变量取值种类少、离散有序变量的卡方分箱主函数bin_discrete，获取变量的woe编码规则、iv值、编码后变量名\n",
    "woe_discrete,iv_discrete,var_discrete_woe=bin_discrete(train_data\n",
    "                                                       ,var_discrete_less+name_var_order\n",
    "                                                       ,y='y'\n",
    "                                                       ,special_val={}\n",
    "                                                       ,intervals_max=max_intervals\n",
    "                                                       ,min_pnt=min_pnt\n",
    "                                                       ,discrete_order=var_val_order\n",
    "                                                       ,mono_except=mono_discrete\n",
    "                                                       ,print_process=False)"
   ]
  },
  {
   "cell_type": "markdown",
   "metadata": {
    "id": "D6411F42D3B44CCC8411FF50169E8A94",
    "jupyter": {
     "outputs_hidden": true
    }
   },
   "source": [
    "\n",
    "#### 输出内容解释：\n",
    "\n",
    "{原始取值：最新箱标记}\n",
    "{'NONE': 0, 'OWN': 1, 'MORTGAGE': 0, 'OTHER': 3, 'RENT': 2}：字典键始终为变量原始取值，字典值为变量取值分组后的最新组标记。像变量verification始终各个取值为一组，不曾改变过，那么它的组标记始终为原始取值；\n",
    "    而变量home_ownership因其分组改变过，改变后的组标记为0起始的数值,示例表示变量home_ownership的取值\n",
    "    'NONE'和'MORTGAGE'被合并至一组，它们的组标记为0；\n",
    "    \n",
    "regroup：\n",
    "索引：组标记，为变量原始取值或0起始的数值；\n",
    "列：total——组样本总数；bad——组坏样本数；badrate——组坏样本率，bad/total；\n",
    "    total_pnt——组样本占比,total除以所有组样本总数和；\n",
    "    \n",
    "相邻组卡方值：暂且称输出的列表为chis=[chi(0,1),chi(1,2),...,chi(k,k+1),...,chi(n-1,n)]，chi(k,k+1)是\n",
    "    相邻的第k、k+1组的卡方值。\n",
    "    \n",
    "{箱标记：woe}：表示以字典形式呈现，字典键为分组标记，字典值为该组的woe编码值；\n",
    "{原始取值(或离散有序变量序值)：woe}：表示以字典形式呈现，字典键为变量原始取值或离散有序变量序值，字典值为\n",
    "    该组的woe编码值；\n",
    "'''"
   ]
  },
  {
   "cell_type": "markdown",
   "metadata": {
    "id": "0244C377A555453B9786FD7556476BCA",
    "mdEditEnable": false
   },
   "source": [
    "卡方分箱：离散无序取值种类多变量，坏样本率编码后作连续变量处理"
   ]
  },
  {
   "cell_type": "code",
   "execution_count": 78,
   "metadata": {
    "collapsed": true,
    "id": "B473BB3B557C4868A321CDE66CE331F1",
    "jupyter": {
     "outputs_hidden": true
    }
   },
   "outputs": [
    {
     "data": {
      "image/png": "[encoded data removed]",
      "text/plain": [
       "<Figure size 864x1152 with 16 Axes>"
      ]
     },
     "metadata": {
      "needs_background": "light"
     },
     "output_type": "display_data"
    }
   ],
   "source": [
    "encode_discrete={}\n",
    "for var in var_discrete_more:\n",
    "    br_encode=bin_badrate(train_data,var,'y').badrate.to_dict()\n",
    "    train_data[var+'_br']=train_data[var].map(br_encode)\n",
    "    encode_discrete[var]=br_encode\n",
    "    var_continue.append(var+'_br')\n",
    "#图示分布\n",
    "var_discrete_encode=[i+'_br' for i in var_discrete_more]\n",
    "plot_continue(train_data,var_discrete_encode,'y')\n",
    "#无缺失；存在异常值，卡方分箱处理"
   ]
  },
  {
   "cell_type": "markdown",
   "metadata": {
    "id": "775AE3515E3B46368A6A411815A509B0",
    "mdEditEnable": false
   },
   "source": [
    "#### 卡方分箱：连续变量"
   ]
  },
  {
   "cell_type": "code",
   "execution_count": 79,
   "metadata": {
    "collapsed": true,
    "id": "8F33764A153E4EBBA63A2D3A5364A636",
    "jupyter": {
     "outputs_hidden": true
    }
   },
   "outputs": [
    {
     "name": "stdout",
     "output_type": "stream",
     "text": [
      "\n",
      "变量：pub_rec_bankruptcies，不参与分组的取值单独自组，存在组样本数占比小于期望最低比例 0.05 ，未调整。\n",
      "                      total  bad   badrate  total_pnt\n",
      "pub_rec_bankruptcies                                 \n",
      "-1.0                    817  197  0.241126   0.043184\n"
     ]
    }
   ],
   "source": [
    "special_val_contin={'pub_rec_bankruptcies':[-1]}#变量不参与分箱的特殊值\n",
    "mono_contin={i:{'shape':'mono','u':'u'} for i in var_continue}#期望单调性\n",
    "#调用针对连续变量的卡方分箱主函数bin_continue，获取变量的woe编码规则、iv值、编码后变量名\n",
    "woe_contin,iv_contin,var_contin_woe=bin_continue(train_data\n",
    "                                                 ,var_continue\n",
    "                                                 ,y='y'\n",
    "                                                 ,special_val=special_val_contin\n",
    "                                                 ,intervals_max=max_intervals\n",
    "                                                 ,min_pnt=min_pnt\n",
    "                                                 ,mono_except=mono_contin\n",
    "                                                 ,print_process=False)"
   ]
  },
  {
   "cell_type": "markdown",
   "metadata": {
    "id": "8F33764A153E4EBBA63A2D3A5364A636",
    "jupyter": {
     "outputs_hidden": true
    }
   },
   "source": [
    "#### 输出内容解释：以变量loan_amnt为例，\n",
    "‘变量：loan_amnt_badrate；当前环节：组内坏样本率为0或1检查’：实际是变量loan_amnt，因所处环节不同，而添加\n",
    "    不同的后缀，若是处于组样本总数检查环节，则为loan_amnt_min_pnt，由变量loan_amnt添加后缀'_min_pnt'得到；\n",
    "‘regroup‘：\n",
    "    索引名，loan_amnt_badrate，变量名后加上标识当前所处环节的后缀；\n",
    "    索引，也是组标记，数值型数据，是分组后各组的上边界；其中一个特殊的上边界 1.000000e+11，通常变量取值\n",
    "        不会这么大，它存在的意义：当该变量取值下有大于最大上边界的值时，可以正常分组；\n",
    "    列，total——组样本数，total_pnt——某组样本数占所有组样本总数的比例，bad——组坏样本数，badrate——组坏样本率；\n",
    "‘相邻组卡方值’：暂且称输出的列表为chis=[chi(0,1),chi(1,2),...,chi(k,k+1),...,chi(n-1,n)]，\n",
    "    chi(k,k+1)是相邻的第k、k+1组的卡方值。例如loan_amnt_badrate下，卡方值10.119810528328625，对应chi(2,3),\n",
    "    也就是第二、三组的卡方值：(可通过卡方值计算函数chi验证)\n",
    "                        total    bad    badrate\n",
    "    loan_amnt_badrate\n",
    "    5.000000e+03        1900     278    0.146316\n",
    "    7.500000e+03        3282     380    0.115783\n",
    "'''"
   ]
  },
  {
   "cell_type": "markdown",
   "metadata": {
    "id": "5CA2F885F5C4455F87FFEAC7BD43B48D",
    "mdEditEnable": false
   },
   "source": [
    "整理分箱结果"
   ]
  },
  {
   "cell_type": "code",
   "execution_count": 88,
   "metadata": {
    "id": "077044ABACDA472F8E894ED2B02D7313"
   },
   "outputs": [],
   "source": [
    "#所有变量及其取值woe\n",
    "woe=woe_discrete.copy()\n",
    "woe.update(woe_contin)\n",
    "#所有变量iv\n",
    "iv=iv_discrete.copy()\n",
    "iv.update(iv_contin)\n",
    "#woe编码构建的新变量名\n",
    "var_woe=var_discrete_woe+var_contin_woe\n",
    "#训练集数据，含原始变量和woe编码变量\n",
    "var_woe_del=[i.replace('_woe','').replace('_br','') for i in var_woe]\n",
    "train_data_woe=train_data[var_woe_del+var_woe+['y']]"
   ]
  },
  {
   "cell_type": "markdown",
   "metadata": {
    "id": "09B353A8C3BE4BB18EE5C8B288206AB2",
    "mdEditEnable": false
   },
   "source": [
    "变量挑选，单变量分析：剔除iv值低于0.01的特征"
   ]
  },
  {
   "cell_type": "code",
   "execution_count": 89,
   "metadata": {
    "collapsed": true,
    "id": "BE44D205A3AC4EE38C70BC970D8B640A",
    "jupyter": {
     "outputs_hidden": true
    }
   },
   "outputs": [
    {
     "data": {
      "text/plain": [
       "<matplotlib.legend.Legend at 0x22a13dee1c8>"
      ]
     },
     "execution_count": 89,
     "metadata": {},
     "output_type": "execute_result"
    },
    {
     "data": {
      "image/png": "[encoded data removed]",
      "text/plain": [
       "<Figure size 432x288 with 1 Axes>"
      ]
     },
     "metadata": {
      "needs_background": "light"
     },
     "output_type": "display_data"
    }
   ],
   "source": [
    "#图示iv\n",
    "iv_sorted=sorted(iv.items(),key=lambda x:x[1],reverse=True)\n",
    "iv_name=[i[0] for i in iv_sorted]\n",
    "iv_val=[i[1] for i in iv_sorted]\n",
    "iv_cnt=len(iv_val)\n",
    "fig1231,ax1231=plt.subplots()\n",
    "ax1231.bar(range(iv_cnt),iv_val)\n",
    "ax1231set=ax1231.set(xticks=range(iv_cnt),xticklabels=iv_name,title='iv')\n",
    "ax1231_xticks=plt.xticks(rotation=90)\n",
    "#水平线：iv=0.01\n",
    "ax1231.hlines(0.01,-1,len(iv_sorted),linestyle='--',color='r',label='iv=0.01')\n",
    "ax1231.legend(loc='best')"
   ]
  },
  {
   "cell_type": "code",
   "execution_count": 93,
   "metadata": {
    "id": "12F1E013D9574D64844ED8D78AB34AA7"
   },
   "outputs": [],
   "source": [
    "#各个变量iv值都不高，故这里选取高于0.01的，条件允许，应提高iv筛选阈值\n",
    "iv_high={k:v for k,v in iv.items() if v>=0.01}\n",
    "iv_high_sorted=sorted(iv_high.items(),key=lambda x:x[1],reverse=True)\n",
    "feat_iv_high=[i[0] for i in iv_high_sorted]"
   ]
  },
  {
   "cell_type": "markdown",
   "metadata": {
    "id": "3F3A803B2444471496625B87DB6B8892",
    "mdEditEnable": false
   },
   "source": [
    "变量挑选，双变量分析：两个特征相关系数绝对值高于0.7，剔除iv值更低的征"
   ]
  },
  {
   "cell_type": "code",
   "execution_count": 94,
   "metadata": {
    "collapsed": true,
    "id": "7E63D07C80AF463A81764ED3BC1B7C6A",
    "jupyter": {
     "outputs_hidden": true
    }
   },
   "outputs": [
    {
     "data": {
      "text/plain": [
       "<matplotlib.axes._subplots.AxesSubplot at 0x22a1915f188>"
      ]
     },
     "execution_count": 94,
     "metadata": {},
     "output_type": "execute_result"
    },
    {
     "data": {
      "image/png": "[encoded data removed]",
      "text/plain": [
       "<Figure size 720x576 with 2 Axes>"
      ]
     },
     "metadata": {
      "needs_background": "light"
     },
     "output_type": "display_data"
    }
   ],
   "source": [
    "corr=train_data_woe[feat_iv_high].corr()\n",
    "fig1025,ax1025=plt.subplots(figsize=(10,8))\n",
    "sns.heatmap(corr,cmap='PuBu',ax=ax1025,annot=True,fmt='.2f',linewidth=0.5)"
   ]
  },
  {
   "cell_type": "code",
   "execution_count": 95,
   "metadata": {
    "id": "DF7F4B9F7BA14330988D71A6FE739EDB"
   },
   "outputs": [],
   "source": [
    "#检查变量两两间相关系数\n",
    "cnt=len(iv_high)\n",
    "id_del=[]\n",
    "for i in range(cnt-1):\n",
    "    for j in range(i+1,cnt):\n",
    "        corr2=train_data_woe[[feat_iv_high[i],feat_iv_high[j]]].corr().iloc[0,1]\n",
    "        if abs(corr2)>=0.7:\n",
    "            if iv_high[feat_iv_high[i]]<=iv_high[feat_iv_high[j]]:id_del.append(i)\n",
    "            else:id_del.append(j)\n",
    "#feat_weak_corr内任意两个特征相关性绝对值小于0.7\n",
    "feat_weak_corr=[feat_iv_high[i] for i in range(cnt) if i not in id_del]"
   ]
  },
  {
   "cell_type": "markdown",
   "metadata": {
    "id": "E7E1143C0321433986F44A74F69D3008",
    "mdEditEnable": false
   },
   "source": [
    "变量挑选：排除多重共线性（vif>=10）"
   ]
  },
  {
   "cell_type": "code",
   "execution_count": 96,
   "metadata": {
    "id": "49E7403CA2A6465B838007625F49CFDE"
   },
   "outputs": [
    {
     "name": "stdout",
     "output_type": "stream",
     "text": [
      "max(vifs)=1.5799567474617409,所有vifs:\n",
      "\n",
      "[1.1237089101858646, 1.5799567474617409, 1.1233001204877688, 1.037704265200552, 1.403959704475908, 1.3037023880637988, 1.5110869276845023, 1.3173420909090623, 1.117484746780714, 1.3530668070338916, 1.5378122850343292, 1.3840226373434803, 1.1367004108438328, 1.2869289436151747, 1.1178059694879632]\n"
     ]
    }
   ],
   "source": [
    "iv_feat_corr={i:iv_high[i] for i in feat_weak_corr}\n",
    "feat_weakcorr_ivsorted=[i[0] for i in sorted(iv_feat_corr.items()\n",
    "                                             ,key=lambda x:x[1]\n",
    "                                             ,reverse=True)]\n",
    "\n",
    "vif_matrix=np.matrix(train_data_woe[feat_weakcorr_ivsorted])\n",
    "vifs=[variance_inflation_factor(vif_matrix,i) for i in range(vif_matrix.shape[1])]\n",
    "print('max(vifs)=%s,所有vifs:\\n\\n%s'%(max(vifs),vifs))#max(vifs)<10，无多重共线性"
   ]
  },
  {
   "cell_type": "markdown",
   "metadata": {
    "id": "E79DA7617DCD4A41A972248FC9947EE4",
    "mdEditEnable": false
   },
   "source": [
    "根据排除多重共线性后的特征，处理测试集"
   ]
  },
  {
   "cell_type": "code",
   "execution_count": 97,
   "metadata": {
    "id": "DDCD58C5D66946B58C69C3D7CBB6F0C6"
   },
   "outputs": [
    {
     "name": "stdout",
     "output_type": "stream",
     "text": [
      "离散取值种类多变量：zip_code，新数据集存在训练集未见取值，以badrate最大值编码\n"
     ]
    }
   ],
   "source": [
    "test_data=encode_new(test_data,feat_weakcorr_ivsorted\n",
    "                     ,var_discrete_less,var_order\n",
    "                     ,woe,train_data_woe\n",
    "                     ,encode_discrete,var_continue)"
   ]
  },
  {
   "cell_type": "markdown",
   "metadata": {
    "id": "1415FFAEF70E40E68EDE5DE98457E729",
    "mdEditEnable": false
   },
   "source": [
    "训练模型：Logit"
   ]
  },
  {
   "cell_type": "code",
   "execution_count": 98,
   "metadata": {
    "id": "B22144CCAB834DE0B047B2A78F5E7E5B"
   },
   "outputs": [
    {
     "name": "stdout",
     "output_type": "stream",
     "text": [
      "Optimization terminated successfully.\n",
      "         Current function value: 0.324218\n",
      "         Iterations 7\n"
     ]
    },
    {
     "data": {
      "text/html": [
       "<table class=\"simpletable\">\n",
       "<caption>Logit Regression Results</caption>\n",
       "<tr>\n",
       "  <th>Dep. Variable:</th>           <td>y</td>        <th>  No. Observations:  </th>  <td> 18919</td> \n",
       "</tr>\n",
       "<tr>\n",
       "  <th>Model:</th>                 <td>Logit</td>      <th>  Df Residuals:      </th>  <td> 18903</td> \n",
       "</tr>\n",
       "<tr>\n",
       "  <th>Method:</th>                 <td>MLE</td>       <th>  Df Model:          </th>  <td>    15</td> \n",
       "</tr>\n",
       "<tr>\n",
       "  <th>Date:</th>            <td>Wed, 08 Jul 2020</td> <th>  Pseudo R-squ.:     </th>  <td>0.1302</td> \n",
       "</tr>\n",
       "<tr>\n",
       "  <th>Time:</th>                <td>20:28:14</td>     <th>  Log-Likelihood:    </th> <td> -6133.9</td>\n",
       "</tr>\n",
       "<tr>\n",
       "  <th>converged:</th>             <td>True</td>       <th>  LL-Null:           </th> <td> -7052.1</td>\n",
       "</tr>\n",
       "<tr>\n",
       "  <th>Covariance Type:</th>     <td>nonrobust</td>    <th>  LLR p-value:       </th>  <td> 0.000</td> \n",
       "</tr>\n",
       "</table>\n",
       "<table class=\"simpletable\">\n",
       "<tr>\n",
       "              <td></td>                <th>coef</th>     <th>std err</th>      <th>z</th>      <th>P>|z|</th>  <th>[0.025</th>    <th>0.975]</th>  \n",
       "</tr>\n",
       "<tr>\n",
       "  <th>zip_code_br_woe</th>          <td>    0.9747</td> <td>    0.045</td> <td>   21.583</td> <td> 0.000</td> <td>    0.886</td> <td>    1.063</td>\n",
       "</tr>\n",
       "<tr>\n",
       "  <th>int_rate_woe</th>             <td>    0.7204</td> <td>    0.056</td> <td>   12.948</td> <td> 0.000</td> <td>    0.611</td> <td>    0.829</td>\n",
       "</tr>\n",
       "<tr>\n",
       "  <th>inq_last_6mths_woe</th>       <td>    0.7129</td> <td>    0.065</td> <td>   10.926</td> <td> 0.000</td> <td>    0.585</td> <td>    0.841</td>\n",
       "</tr>\n",
       "<tr>\n",
       "  <th>purpose_br_woe</th>           <td>    0.7928</td> <td>    0.083</td> <td>    9.522</td> <td> 0.000</td> <td>    0.630</td> <td>    0.956</td>\n",
       "</tr>\n",
       "<tr>\n",
       "  <th>revol_util_woe</th>           <td>    0.4819</td> <td>    0.095</td> <td>    5.062</td> <td> 0.000</td> <td>    0.295</td> <td>    0.668</td>\n",
       "</tr>\n",
       "<tr>\n",
       "  <th>funded_amnt_inv_woe</th>      <td>    0.5750</td> <td>    0.101</td> <td>    5.671</td> <td> 0.000</td> <td>    0.376</td> <td>    0.774</td>\n",
       "</tr>\n",
       "<tr>\n",
       "  <th>pub_rec_bankruptcies_woe</th> <td>    0.3437</td> <td>    0.108</td> <td>    3.182</td> <td> 0.001</td> <td>    0.132</td> <td>    0.555</td>\n",
       "</tr>\n",
       "<tr>\n",
       "  <th>annual_inc_woe</th>           <td>    0.6961</td> <td>    0.114</td> <td>    6.097</td> <td> 0.000</td> <td>    0.472</td> <td>    0.920</td>\n",
       "</tr>\n",
       "<tr>\n",
       "  <th>addr_state_br_woe</th>        <td>    0.0587</td> <td>    0.109</td> <td>    0.539</td> <td> 0.590</td> <td>   -0.155</td> <td>    0.272</td>\n",
       "</tr>\n",
       "<tr>\n",
       "  <th>earliest_to_issue_woe</th>    <td>    0.0306</td> <td>    0.146</td> <td>    0.210</td> <td> 0.834</td> <td>   -0.256</td> <td>    0.317</td>\n",
       "</tr>\n",
       "<tr>\n",
       "  <th>total_acc_woe</th>            <td>    0.0964</td> <td>    0.173</td> <td>    0.559</td> <td> 0.576</td> <td>   -0.242</td> <td>    0.435</td>\n",
       "</tr>\n",
       "<tr>\n",
       "  <th>pub_rec_woe</th>              <td>    0.4174</td> <td>    0.153</td> <td>    2.725</td> <td> 0.006</td> <td>    0.117</td> <td>    0.718</td>\n",
       "</tr>\n",
       "<tr>\n",
       "  <th>pnt_debt_woe</th>             <td>    0.8746</td> <td>    0.158</td> <td>    5.537</td> <td> 0.000</td> <td>    0.565</td> <td>    1.184</td>\n",
       "</tr>\n",
       "<tr>\n",
       "  <th>open_acc_woe</th>             <td>    0.1052</td> <td>    0.186</td> <td>    0.566</td> <td> 0.572</td> <td>   -0.259</td> <td>    0.470</td>\n",
       "</tr>\n",
       "<tr>\n",
       "  <th>dti_woe</th>                  <td>    0.3726</td> <td>    0.223</td> <td>    1.669</td> <td> 0.095</td> <td>   -0.065</td> <td>    0.810</td>\n",
       "</tr>\n",
       "<tr>\n",
       "  <th>intercept</th>                <td>   -1.9653</td> <td>    0.025</td> <td>  -78.541</td> <td> 0.000</td> <td>   -2.014</td> <td>   -1.916</td>\n",
       "</tr>\n",
       "</table>"
      ],
      "text/plain": [
       "<class 'statsmodels.iolib.summary.Summary'>\n",
       "\"\"\"\n",
       "                           Logit Regression Results                           \n",
       "==============================================================================\n",
       "Dep. Variable:                      y   No. Observations:                18919\n",
       "Model:                          Logit   Df Residuals:                    18903\n",
       "Method:                           MLE   Df Model:                           15\n",
       "Date:                Wed, 08 Jul 2020   Pseudo R-squ.:                  0.1302\n",
       "Time:                        20:28:14   Log-Likelihood:                -6133.9\n",
       "converged:                       True   LL-Null:                       -7052.1\n",
       "Covariance Type:            nonrobust   LLR p-value:                     0.000\n",
       "============================================================================================\n",
       "                               coef    std err          z      P>|z|      [0.025      0.975]\n",
       "--------------------------------------------------------------------------------------------\n",
       "zip_code_br_woe              0.9747      0.045     21.583      0.000       0.886       1.063\n",
       "int_rate_woe                 0.7204      0.056     12.948      0.000       0.611       0.829\n",
       "inq_last_6mths_woe           0.7129      0.065     10.926      0.000       0.585       0.841\n",
       "purpose_br_woe               0.7928      0.083      9.522      0.000       0.630       0.956\n",
       "revol_util_woe               0.4819      0.095      5.062      0.000       0.295       0.668\n",
       "funded_amnt_inv_woe          0.5750      0.101      5.671      0.000       0.376       0.774\n",
       "pub_rec_bankruptcies_woe     0.3437      0.108      3.182      0.001       0.132       0.555\n",
       "annual_inc_woe               0.6961      0.114      6.097      0.000       0.472       0.920\n",
       "addr_state_br_woe            0.0587      0.109      0.539      0.590      -0.155       0.272\n",
       "earliest_to_issue_woe        0.0306      0.146      0.210      0.834      -0.256       0.317\n",
       "total_acc_woe                0.0964      0.173      0.559      0.576      -0.242       0.435\n",
       "pub_rec_woe                  0.4174      0.153      2.725      0.006       0.117       0.718\n",
       "pnt_debt_woe                 0.8746      0.158      5.537      0.000       0.565       1.184\n",
       "open_acc_woe                 0.1052      0.186      0.566      0.572      -0.259       0.470\n",
       "dti_woe                      0.3726      0.223      1.669      0.095      -0.065       0.810\n",
       "intercept                   -1.9653      0.025    -78.541      0.000      -2.014      -1.916\n",
       "============================================================================================\n",
       "\"\"\""
      ]
     },
     "execution_count": 98,
     "metadata": {},
     "output_type": "execute_result"
    }
   ],
   "source": [
    "#回归\n",
    "feat_nocorr=feat_weakcorr_ivsorted.copy()#feat_weakcorr_ivsorted至此已排除具有明显多重共线性\n",
    "x=train_data_woe[feat_nocorr]\n",
    "x['intercept']=[1]*x.shape[0]\n",
    "y=train_data_woe['y']\n",
    "lr=Logit(y,x).fit()\n",
    "lr.summary()"
   ]
  },
  {
   "cell_type": "code",
   "execution_count": 99,
   "metadata": {
    "id": "FB255547B8A4430B931AF3761F83B349"
   },
   "outputs": [
    {
     "name": "stdout",
     "output_type": "stream",
     "text": [
      "不显著变量：earliest_to_issue_woe，p>0.1\n",
      "Optimization terminated successfully.\n",
      "         Current function value: 0.324219\n",
      "         Iterations 7\n",
      "不显著变量：addr_state_br_woe，p>0.1\n",
      "Optimization terminated successfully.\n",
      "         Current function value: 0.324227\n",
      "         Iterations 7\n",
      "不显著变量：open_acc_woe，p>0.1\n",
      "Optimization terminated successfully.\n",
      "         Current function value: 0.324235\n",
      "         Iterations 7\n",
      "不显著变量：total_acc_woe，p>0.1\n",
      "Optimization terminated successfully.\n",
      "         Current function value: 0.324260\n",
      "         Iterations 7\n",
      "不显著变量：dti_woe，p>0.1\n",
      "Optimization terminated successfully.\n",
      "         Current function value: 0.324314\n",
      "         Iterations 7\n"
     ]
    }
   ],
   "source": [
    "#剔除不显著特征，取显著性水平0.1\n",
    "feat_large_p={k:v for k,v in lr.pvalues.to_dict().items() if v>0.1}\n",
    "feat_large_p=sorted(feat_large_p.items(),key=lambda x:x[1],reverse=True)\n",
    "while len(feat_large_p)>0:\n",
    "    feat_max_p=feat_large_p[0][0]\n",
    "    print('不显著变量：%s，p>0.1'%feat_max_p)\n",
    "    if feat_max_p=='intercept':print('intercept 不显著');continue\n",
    "    feat_nocorr.remove(feat_max_p)\n",
    "    x_p=train_data_woe[feat_nocorr]\n",
    "    x_p['intercept']=[1]*x_p.shape[0]\n",
    "    lr_p=Logit(y,x_p).fit()\n",
    "    feat_large_p={k:v for k,v in lr_p.pvalues.to_dict().items() if v>0.1}\n",
    "    feat_large_p=sorted(feat_large_p.items(),key=lambda x:x[1],reverse=True)"
   ]
  },
  {
   "cell_type": "code",
   "execution_count": 100,
   "metadata": {
    "id": "C1A35F62FEBD4D1E87F39ABFDC8A9BF3"
   },
   "outputs": [
    {
     "name": "stdout",
     "output_type": "stream",
     "text": [
      "Optimization terminated successfully.\n",
      "         Current function value: 0.324314\n",
      "         Iterations 7\n"
     ]
    },
    {
     "data": {
      "text/html": [
       "<table class=\"simpletable\">\n",
       "<caption>Logit Regression Results</caption>\n",
       "<tr>\n",
       "  <th>Dep. Variable:</th>           <td>y</td>        <th>  No. Observations:  </th>  <td> 18919</td> \n",
       "</tr>\n",
       "<tr>\n",
       "  <th>Model:</th>                 <td>Logit</td>      <th>  Df Residuals:      </th>  <td> 18908</td> \n",
       "</tr>\n",
       "<tr>\n",
       "  <th>Method:</th>                 <td>MLE</td>       <th>  Df Model:          </th>  <td>    10</td> \n",
       "</tr>\n",
       "<tr>\n",
       "  <th>Date:</th>            <td>Wed, 08 Jul 2020</td> <th>  Pseudo R-squ.:     </th>  <td>0.1299</td> \n",
       "</tr>\n",
       "<tr>\n",
       "  <th>Time:</th>                <td>20:28:40</td>     <th>  Log-Likelihood:    </th> <td> -6135.7</td>\n",
       "</tr>\n",
       "<tr>\n",
       "  <th>converged:</th>             <td>True</td>       <th>  LL-Null:           </th> <td> -7052.1</td>\n",
       "</tr>\n",
       "<tr>\n",
       "  <th>Covariance Type:</th>     <td>nonrobust</td>    <th>  LLR p-value:       </th>  <td> 0.000</td> \n",
       "</tr>\n",
       "</table>\n",
       "<table class=\"simpletable\">\n",
       "<tr>\n",
       "              <td></td>                <th>coef</th>     <th>std err</th>      <th>z</th>      <th>P>|z|</th>  <th>[0.025</th>    <th>0.975]</th>  \n",
       "</tr>\n",
       "<tr>\n",
       "  <th>zip_code_br_woe</th>          <td>    0.9839</td> <td>    0.043</td> <td>   22.951</td> <td> 0.000</td> <td>    0.900</td> <td>    1.068</td>\n",
       "</tr>\n",
       "<tr>\n",
       "  <th>int_rate_woe</th>             <td>    0.7330</td> <td>    0.054</td> <td>   13.690</td> <td> 0.000</td> <td>    0.628</td> <td>    0.838</td>\n",
       "</tr>\n",
       "<tr>\n",
       "  <th>inq_last_6mths_woe</th>       <td>    0.7103</td> <td>    0.065</td> <td>   10.936</td> <td> 0.000</td> <td>    0.583</td> <td>    0.838</td>\n",
       "</tr>\n",
       "<tr>\n",
       "  <th>purpose_br_woe</th>           <td>    0.7929</td> <td>    0.083</td> <td>    9.554</td> <td> 0.000</td> <td>    0.630</td> <td>    0.956</td>\n",
       "</tr>\n",
       "<tr>\n",
       "  <th>revol_util_woe</th>           <td>    0.5046</td> <td>    0.093</td> <td>    5.411</td> <td> 0.000</td> <td>    0.322</td> <td>    0.687</td>\n",
       "</tr>\n",
       "<tr>\n",
       "  <th>funded_amnt_inv_woe</th>      <td>    0.5896</td> <td>    0.100</td> <td>    5.892</td> <td> 0.000</td> <td>    0.393</td> <td>    0.786</td>\n",
       "</tr>\n",
       "<tr>\n",
       "  <th>pub_rec_bankruptcies_woe</th> <td>    0.3485</td> <td>    0.108</td> <td>    3.239</td> <td> 0.001</td> <td>    0.138</td> <td>    0.559</td>\n",
       "</tr>\n",
       "<tr>\n",
       "  <th>annual_inc_woe</th>           <td>    0.7419</td> <td>    0.107</td> <td>    6.908</td> <td> 0.000</td> <td>    0.531</td> <td>    0.952</td>\n",
       "</tr>\n",
       "<tr>\n",
       "  <th>pub_rec_woe</th>              <td>    0.3996</td> <td>    0.151</td> <td>    2.638</td> <td> 0.008</td> <td>    0.103</td> <td>    0.697</td>\n",
       "</tr>\n",
       "<tr>\n",
       "  <th>pnt_debt_woe</th>             <td>    0.8766</td> <td>    0.158</td> <td>    5.551</td> <td> 0.000</td> <td>    0.567</td> <td>    1.186</td>\n",
       "</tr>\n",
       "<tr>\n",
       "  <th>intercept</th>                <td>   -1.9657</td> <td>    0.025</td> <td>  -78.549</td> <td> 0.000</td> <td>   -2.015</td> <td>   -1.917</td>\n",
       "</tr>\n",
       "</table>"
      ],
      "text/plain": [
       "<class 'statsmodels.iolib.summary.Summary'>\n",
       "\"\"\"\n",
       "                           Logit Regression Results                           \n",
       "==============================================================================\n",
       "Dep. Variable:                      y   No. Observations:                18919\n",
       "Model:                          Logit   Df Residuals:                    18908\n",
       "Method:                           MLE   Df Model:                           10\n",
       "Date:                Wed, 08 Jul 2020   Pseudo R-squ.:                  0.1299\n",
       "Time:                        20:28:40   Log-Likelihood:                -6135.7\n",
       "converged:                       True   LL-Null:                       -7052.1\n",
       "Covariance Type:            nonrobust   LLR p-value:                     0.000\n",
       "============================================================================================\n",
       "                               coef    std err          z      P>|z|      [0.025      0.975]\n",
       "--------------------------------------------------------------------------------------------\n",
       "zip_code_br_woe              0.9839      0.043     22.951      0.000       0.900       1.068\n",
       "int_rate_woe                 0.7330      0.054     13.690      0.000       0.628       0.838\n",
       "inq_last_6mths_woe           0.7103      0.065     10.936      0.000       0.583       0.838\n",
       "purpose_br_woe               0.7929      0.083      9.554      0.000       0.630       0.956\n",
       "revol_util_woe               0.5046      0.093      5.411      0.000       0.322       0.687\n",
       "funded_amnt_inv_woe          0.5896      0.100      5.892      0.000       0.393       0.786\n",
       "pub_rec_bankruptcies_woe     0.3485      0.108      3.239      0.001       0.138       0.559\n",
       "annual_inc_woe               0.7419      0.107      6.908      0.000       0.531       0.952\n",
       "pub_rec_woe                  0.3996      0.151      2.638      0.008       0.103       0.697\n",
       "pnt_debt_woe                 0.8766      0.158      5.551      0.000       0.567       1.186\n",
       "intercept                   -1.9657      0.025    -78.549      0.000      -2.015      -1.917\n",
       "============================================================================================\n",
       "\"\"\""
      ]
     },
     "execution_count": 100,
     "metadata": {},
     "output_type": "execute_result"
    }
   ],
   "source": [
    "x_smallP=train_data_woe[feat_nocorr]\n",
    "x_smallP['intercept']=[1]*x_smallP.shape[0]\n",
    "lr_smallP=Logit(y,x_smallP).fit()\n",
    "lr_smallP.summary()#所有特征p值都小于0.1，表示所有特征都显著；回归系数除截距外符号都ok"
   ]
  },
  {
   "cell_type": "code",
   "execution_count": 101,
   "metadata": {
    "id": "BAC47C94770A431D9A27860DD95910CA"
   },
   "outputs": [],
   "source": [
    "#判断样本为正例（坏样本）的概率\n",
    "train_data_woe['y_pred']=lr_smallP.predict(x_smallP)\n",
    "#确定建模特征\n",
    "feat_model=list(lr_smallP.params.index)\n",
    "feat_model.remove('intercept')"
   ]
  },
  {
   "cell_type": "markdown",
   "metadata": {
    "id": "85FBF8C34E2348F193222B16BAA041FD",
    "mdEditEnable": false
   },
   "source": [
    "概率转换分数：base_score=1000;pdo=200"
   ]
  },
  {
   "cell_type": "code",
   "execution_count": 102,
   "metadata": {
    "id": "6FCFD41FB7BB4C5A8C1FB1C5B8DF69B6"
   },
   "outputs": [
    {
     "data": {
      "text/plain": [
       "<matplotlib.axes._subplots.AxesSubplot at 0x22a11b0ab88>"
      ]
     },
     "execution_count": 102,
     "metadata": {},
     "output_type": "execute_result"
    },
    {
     "data": {
      "image/png": "[encoded data removed]",
      "text/plain": [
       "<Figure size 432x288 with 1 Axes>"
      ]
     },
     "metadata": {
      "needs_background": "light"
     },
     "output_type": "display_data"
    }
   ],
   "source": [
    "base_score=1000;pdo=200\n",
    "train_data_woe['score']=train_data_woe['y_pred'].map(lambda x:proba_2score(x,base_score=base_score,pdo=pdo))\n",
    "#分数分布概览：总体符合正态分布，稍左偏\n",
    "sns.distplot(train_data_woe['score'])"
   ]
  },
  {
   "cell_type": "code",
   "execution_count": 103,
   "metadata": {
    "id": "013F8FF00A154C8D861B09D69A4C26C3"
   },
   "outputs": [
    {
     "data": {
      "text/plain": [
       "<matplotlib.legend.Legend at 0x22a1cdc8bc8>"
      ]
     },
     "execution_count": 103,
     "metadata": {},
     "output_type": "execute_result"
    },
    {
     "data": {
      "image/png": "[encoded data removed]",
      "text/plain": [
       "<Figure size 1152x288 with 3 Axes>"
      ]
     },
     "metadata": {
      "needs_background": "light"
     },
     "output_type": "display_data"
    }
   ],
   "source": [
    "#重新切割分数区间以绘制直方图；绘制badrate随分数变化走势图\n",
    "#好坏样本分别绘制分数分布曲线\n",
    "bins1707=np.linspace(600,3000,num=25)#min=651，max=2921，600始，3000终，间隔100，切分24段\n",
    "train_data_woe['bins']=pd.cut(train_data_woe['score'],bins1707)\n",
    "regroup_bins=bin_badrate(train_data_woe,'bins','y')\n",
    "\n",
    "fig1654,ax1654=plt.subplots(1,2,figsize=(8*2,4))\n",
    "sns.distplot(train_data_woe['score'][train_data_woe.y==0],hist=False,ax=ax1654[0],label='0')\n",
    "sns.distplot(train_data_woe['score'][train_data_woe.y==1],hist=False,ax=ax1654[0],label='1')\n",
    "#分数直方图\n",
    "ax1654[1].hist(train_data_woe['score'],bins=bins1707,rwidth=0.9,color='k',alpha=0.7)\n",
    "ax1654set1=ax1654[1].set(xticks=bins1707,xlabel='score',ylabel='count_samples')\n",
    "plt.xticks(rotation=90)\n",
    "#badrate随分数变化图示(右y轴)\n",
    "ax1655=ax1654[1].twinx()\n",
    "ax1655.plot(bins1707[1:],list(regroup_bins.badrate),'rx',label='badrate')\n",
    "ax1655set=ax1655.set(ylabel='badrate')\n",
    "ax1655.legend(loc='best')\n",
    "#分数总体呈正态分布，稍左偏，badrate整体随分数升高而下降\n",
    "#（badrate在各分数区间上的单调性还受分数分段方式影响，可能存在局部不单调，当前切分24段，间隔100）"
   ]
  },
  {
   "cell_type": "code",
   "execution_count": 33,
   "metadata": {
    "id": "B7443DEEF6C44DFEADFCE4241F5DE666"
   },
   "outputs": [],
   "source": [
    "#分值分解：score=a - pdo/ln(2) * ln(p/(1-p))，其中 ln(p/(1-p)) = sum( wi*xi )，i=1,2,...,n，特征标记，\n",
    "#令b=pdo/ln(2)，则有score=a-b*w0 - b*w1x1 - b*w2*x2 - ,...,- b*wnxn，即将总分score分解到各个变量取值x1,x2,...,xn；\n",
    "#最后结果为{原始变量名：{原始取值：得分}}，以便于通过未编码原始取值及其得分，对比实际业务含义，判断编码评分合理性\n",
    "coef=lr_smallP.params.to_dict()#变量系数（w）\n",
    "woe_model={k:v for k,v in woe.items() if k in coef}#模型相关变量woe（x）\n",
    "a=base_score;b=pdo/np.log(2)\n",
    "var_val_score={}\n",
    "for feat in woe_model:\n",
    "    weight=coef[feat]\n",
    "    var=feat.replace('_woe','')\n",
    "    #离散取值种类多变量：原始取值—>badrate编码—>badrate编码分组上界—>woe编码值—>计算得分\n",
    "    if var[-3:]=='_br':\n",
    "        var=var.replace('_br','')\n",
    "        thresh_badrate=sorted(list(woe_model[feat].keys()))\n",
    "        val_badrate_thresh={k:refresh_val_2thresh(v,thresh_badrate) for k,v in encode_discrete[var].items()}\n",
    "        val_score={k:-b*weight*woe[feat][v] for k,v in val_badrate_thresh.items()}\n",
    "        var_val_score[var]=val_score\n",
    "    #离散取值种类少、离散有序变量：原始取值—>woe编码值—>计算得分；\n",
    "    #连续变量：原始取值—>原始取值分组上界—>woe编码值—>计算得分；\n",
    "    #（原始取值映射到的分组上界仍然是原始取值的一部分，不像离散取值种类多变量badrate编码映射为完全不同的值，因此，）\n",
    "    #（可以和离散取值种类少、离散有序变量相同方式处理，只是含义不同。）\n",
    "    # else：var in var_discrete_less or var in var_order or var in var_continue:#var_continue含离散取值种类多变量，\n",
    "    #但这类变量处理方式不同，故放在最前，并使用else，若用if，var_continue内会用错误方式处理后覆盖前面正确处理结果。\n",
    "    else:\n",
    "        val_score={k:-b*weight*x for k,x in woe_model[feat].items()}\n",
    "        var_val_score[var]=val_score\n",
    "var_val_score['intercept']={1:a-b*coef['intercept']}"
   ]
  },
  {
   "cell_type": "code",
   "execution_count": 34,
   "metadata": {
    "collapsed": true,
    "id": "8986C70608FC4CF1ACD895B325B4CC6C",
    "jupyter": {
     "outputs_hidden": true
    }
   },
   "outputs": [
    {
     "data": {
      "text/html": [
       "<img src=\"https://cdn.kesci.com/rt_upload/8986C70608FC4CF1ACD895B325B4CC6C/po2usk7e75.png\">"
      ],
      "text/plain": [
       "<Figure size 720x3168 with 11 Axes>"
      ]
     },
     "metadata": {
      "needs_background": "light"
     },
     "output_type": "display_data"
    }
   ],
   "source": [
    "#图示每个变量取值分数\n",
    "fig1130,ax1130=plt.subplots(len(var_val_score),1,figsize=(10*1,4*len(var_val_score)))\n",
    "i=0\n",
    "for k in var_val_score:\n",
    "    score=sorted(var_val_score[k].items(),key=lambda x:x[0])\n",
    "    keys=[n[0] for n in score]\n",
    "    values=[n[1] for n in score]\n",
    "    xtick=list(range(len(keys)))\n",
    "    ax1130[i].plot(xtick,values,'k--o')\n",
    "    ax1130set=ax1130[i].set(xticks=xtick,xticklabels=keys,xlabel=k,ylabel='score')\n",
    "    for x,y in zip(xtick,values):\n",
    "        axtxt=ax1130[i].text(x,y+3,round(y,0),ha='center')\n",
    "    ax1130[i].hlines(0,min(xtick),max(xtick),'r',linestyles='--',label='score=0')\n",
    "    ax1130[i].legend(loc='best')\n",
    "    i+=1\n",
    "plt.tight_layout()"
   ]
  },
  {
   "cell_type": "code",
   "execution_count": 35,
   "metadata": {
    "id": "E9B51CA5E0BD4CB888AF21BA87943D54"
   },
   "outputs": [
    {
     "name": "stdout",
     "output_type": "stream",
     "text": [
      "概率计算得分总分：\n",
      " 35632    1715.935509\n",
      "18552    1142.955048\n",
      "Name: score, dtype: float64\n",
      "\n",
      "分数拆解到变量取值再汇总得分：18552：1715.9355089560495，35632：1142.955047662569\n"
     ]
    }
   ],
   "source": [
    "#对比验证概率计算得分总分，和分数拆解到变量取值再汇总得分——结果一致\n",
    "score_detail=score_split(train_data_woe.iloc[:2],var_continue,var_val_score)#索引为35632、18552(32224、37755)\n",
    "print('概率计算得分总分：\\n',train_data_woe.iloc[:2]['score'])\n",
    "print('\\n分数拆解到变量取值再汇总得分：18552：%s，35632：%s'%(score_detail[35632]['total']['score'],\n",
    "                                                               score_detail[18552]['total']['score']))"
   ]
  },
  {
   "cell_type": "markdown",
   "metadata": {
    "id": "0E5CC848594A4AD69BB94D7DD7AE1DAC",
    "mdEditEnable": false
   },
   "source": [
    "模型评价：准确性、区分度、稳定性"
   ]
  },
  {
   "cell_type": "code",
   "execution_count": 36,
   "metadata": {
    "collapsed": true,
    "id": "B502DE868485419CBC8E83AEE04B9F30",
    "jupyter": {
     "outputs_hidden": true
    }
   },
   "outputs": [
    {
     "name": "stdout",
     "output_type": "stream",
     "text": [
      "训练集准确性：auc_train： 0.7568505848300044\n",
      "训练集区分度：ks=0.3727572344396799\n",
      "训练集区分度，divergence=0.7999397844057162\n",
      "训练集区分度：gini=0.19942910099921457\n"
     ]
    },
    {
     "data": {
      "text/html": [
       "<img src=\"https://cdn.kesci.com/rt_upload/B502DE868485419CBC8E83AEE04B9F30/po2usk98md.png\">"
      ],
      "text/plain": [
       "<Figure size 432x288 with 1 Axes>"
      ]
     },
     "metadata": {
      "needs_background": "light"
     },
     "output_type": "display_data"
    },
    {
     "data": {
      "text/html": [
       "<img src=\"https://cdn.kesci.com/rt_upload/B502DE868485419CBC8E83AEE04B9F30/po2uskjfgw.png\">"
      ],
      "text/plain": [
       "<Figure size 432x288 with 1 Axes>"
      ]
     },
     "metadata": {
      "needs_background": "light"
     },
     "output_type": "display_data"
    }
   ],
   "source": [
    "#准确性：auc\n",
    "auc_train=roc_auc_score(train_data_woe['y'],train_data_woe['y_pred'])\n",
    "print('训练集准确性：auc_train：',auc_train)\n",
    "#区分度：ks\n",
    "ks_train=distin_ks(train_data_woe['y'],train_data_woe['y_pred'],plot_ks=True)\n",
    "print('训练集区分度：ks=%s'%ks_train)\n",
    "#区分度指标除了使用ks之外，还可以用divergence，gini（之后的程序中只用ks）\n",
    "#区分度：divergence\n",
    "diver=distin_divergence(train_data_woe['y'],train_data_woe['y_pred'])\n",
    "print('训练集区分度，divergence=%s'%diver)\n",
    "#区分度：gini\n",
    "gini=distin_gini(train_data_woe['y'],train_data_woe['y_pred'],plot_gini=True)\n",
    "print('训练集区分度：gini=%s'%gini)"
   ]
  },
  {
   "cell_type": "markdown",
   "metadata": {
    "id": "159279A32A9A40C58516FD19A936352F",
    "mdEditEnable": false
   },
   "source": [
    "测试数据"
   ]
  },
  {
   "cell_type": "code",
   "execution_count": 37,
   "metadata": {
    "id": "90FBCB900E7040799055E689017B3D67"
   },
   "outputs": [
    {
     "name": "stdout",
     "output_type": "stream",
     "text": [
      "测试集准确性：auc=0.652993929745994\n",
      "测试集区分度：ks=0.2395766566370443\n",
      "测试集区分度：diver=0.28042281780375955\n",
      "测试集区分度：gini=0.20965708745178777\n",
      "模型稳定性，训练集vs测试集：psi=0.0013205173609427067\n"
     ]
    },
    {
     "data": {
      "text/html": [
       "<img src=\"https://cdn.kesci.com/rt_upload/90FBCB900E7040799055E689017B3D67/po2uslbdwj.png\">"
      ],
      "text/plain": [
       "<Figure size 432x288 with 1 Axes>"
      ]
     },
     "metadata": {
      "needs_background": "light"
     },
     "output_type": "display_data"
    },
    {
     "data": {
      "text/html": [
       "<img src=\"https://cdn.kesci.com/rt_upload/90FBCB900E7040799055E689017B3D67/po2usl8sng.png\">"
      ],
      "text/plain": [
       "<Figure size 432x288 with 1 Axes>"
      ]
     },
     "metadata": {
      "needs_background": "light"
     },
     "output_type": "display_data"
    }
   ],
   "source": [
    "test_data['intercept']=[1]*test_data.shape[0]\n",
    "test_data['y_pred']=lr_smallP.predict(test_data[feat_model+['intercept']])\n",
    "test_data['score']=test_data['y_pred'].map(lambda x:proba_2score(x,base_score=base_score,pdo=pdo))\n",
    "\n",
    "auc_test=roc_auc_score(test_data['y'],test_data['y_pred'])\n",
    "print('测试集准确性：auc=%s'%auc_test)\n",
    "ks_test=distin_ks(test_data['y'],test_data['y_pred'],plot_ks=True)\n",
    "print('测试集区分度：ks=%s'%ks_test)\n",
    "diver_test=distin_divergence(test_data['y'],test_data['y_pred'])\n",
    "print('测试集区分度：diver=%s'%diver_test)\n",
    "gini_test=distin_gini(test_data['y'],test_data['y_pred'],plot_gini=True)\n",
    "print('测试集区分度：gini=%s'%gini_test)\n",
    "psi_val=psi(train_data_woe.y,train_data_woe.y_pred,test_data.y,test_data.y_pred)\n",
    "print('模型稳定性，训练集vs测试集：psi=%s'%psi_val)"
   ]
  },
  {
   "cell_type": "markdown",
   "metadata": {
    "id": "82FBECCAA71449F98F4B8A592D1CBFD5",
    "mdEditEnable": false
   },
   "source": [
    "尝试改善模型预测效果"
   ]
  },
  {
   "cell_type": "markdown",
   "metadata": {
    "id": "FCA9A6B791FD4D6982F80F173A279F38",
    "mdEditEnable": false
   },
   "source": [
    "数据准备"
   ]
  },
  {
   "cell_type": "code",
   "execution_count": 38,
   "metadata": {
    "id": "E541E4DE900B4E1A82041C5A14738F37"
   },
   "outputs": [],
   "source": [
    "feat_ml = feat_weakcorr_ivsorted\n",
    "# 训练集\n",
    "x_train = train_data_woe[feat_ml]\n",
    "y_train = train_data_woe['y']\n",
    "# 测试集\n",
    "x_test = test_data[feat_ml]\n",
    "y_test = test_data['y']\n"
   ]
  },
  {
   "cell_type": "markdown",
   "metadata": {
    "id": "3B0A4DF12C1C4DE1886D00C1B6663483",
    "mdEditEnable": false
   },
   "source": [
    "卡方分箱、变量排除多重共线性、GBDT 默认参数"
   ]
  },
  {
   "cell_type": "code",
   "execution_count": 39,
   "metadata": {
    "id": "AA71CBCC23D64C7388147CDD48497A19"
   },
   "outputs": [
    {
     "name": "stdout",
     "output_type": "stream",
     "text": [
      "训练集，gbdt+默认参数，auc=0.7765948579566049，ks=0.39818562966627197\n",
      "测试集，gbdt+默认参数，auc=0.651365428124927，ks=0.2372307746133931\n",
      "psi,训练集vs测试集：0.0018204420433566577\n"
     ]
    }
   ],
   "source": [
    "#gbdt默认参数训练模型\n",
    "gbdt_init=GradientBoostingClassifier()\n",
    "gbdt_init.fit(x_train,y_train)\n",
    "#训练集，计算样本为正例的概率auc，ks\n",
    "proba_train_gbdt_init=gbdt_init.predict_proba(x_train)[:,1]\n",
    "auc_train_gbdt_init=roc_auc_score(y_train,proba_train_gbdt_init)\n",
    "ks_train_gbdt_init=distin_ks(y_train,proba_train_gbdt_init)\n",
    "print('训练集，gbdt+默认参数，auc=%s，ks=%s'%(auc_train_gbdt_init,ks_train_gbdt_init))\n",
    "#测试集上，计算样本为正例的概率auc，ks\n",
    "proba_test_gbdt_init=gbdt_init.predict_proba(x_test)[:,1]\n",
    "auc_test_gbdt_init=roc_auc_score(y_test,proba_test_gbdt_init)\n",
    "ks_test_gbdt_init=distin_ks(y_test,proba_test_gbdt_init)\n",
    "print('测试集，gbdt+默认参数，auc=%s，ks=%s'%(auc_test_gbdt_init,ks_test_gbdt_init))\n",
    "#psi,训练集vs测试集\n",
    "psi_gbdt_init=psi(y_train,proba_train_gbdt_init,y_test,proba_test_gbdt_init)\n",
    "print('psi,训练集vs测试集：%s'%psi_gbdt_init)"
   ]
  },
  {
   "cell_type": "markdown",
   "metadata": {
    "id": "95BF49275E8E4AA08BB785AE48BC4B51",
    "mdEditEnable": false
   },
   "source": [
    "重要性前n(n>=10)的变量、独热编码、GradientBoostingClassifier默认参数"
   ]
  },
  {
   "cell_type": "code",
   "execution_count": 40,
   "metadata": {
    "id": "150B1F2B77F14C7E90C5BBEE3AAB31FA"
   },
   "outputs": [],
   "source": [
    "var_discrete_gbdt=var_discrete_less+var_discrete_more#含离散无序取值种类少变量、离散取值种类多变量\n",
    "var_continue_gbdt=var_continue+var_order#含离散有序变量、离散无序取值种类多已badrate编码变量、连续变量\n",
    "train_data_gbdt=train_data[var_discrete_gbdt+var_continue_gbdt+['y']]\n",
    "test_data_gbdt=test_data[var_discrete_gbdt+var_continue_gbdt+['y']]\n",
    "\n",
    "#离散无序取值种类少变量badrate编码后作连续变量处理\n",
    "for var in var_discrete_less:\n",
    "    badrate_var=bin_badrate(train_data_gbdt,var,'y')['badrate'].to_dict()\n",
    "    train_data_gbdt[var+'_br']=train_data_gbdt[var].map(badrate_var)\n",
    "    test_data_gbdt[var+'_br']=test_data_gbdt[var].map(badrate_var)\n",
    "    #测试集有，而训练集没有的取值，以最大badrate编码\n",
    "    test_data_gbdt[var+'_br']=test_data_gbdt[var+'_br'].fillna(max(test_data_gbdt[var+'_br']))\n",
    "    var_continue_gbdt.append(var+'_br')\n",
    "    \n",
    "#计算变量重要性并降排序\n",
    "gbdt=GradientBoostingClassifier()\n",
    "gbdt.fit(train_data_gbdt[var_continue_gbdt],train_data_gbdt.y)\n",
    "feat_important=[(var,important) for var,important in zip(var_continue_gbdt,list(gbdt.feature_importances_))]\n",
    "feat_important_sorted=sorted(feat_important,key=lambda x:x[1],reverse=True)"
   ]
  },
  {
   "cell_type": "code",
   "execution_count": 41,
   "metadata": {
    "id": "5E8D617FD44A479182DFA93FC1F6505B"
   },
   "outputs": [],
   "source": [
    "#选取重要性前n(n>=10)的变量建立模型\n",
    "n_feats=list(range(10,len(feat_important_sorted)))\n",
    "auc_train_list=[];auc_test_list=[];ks_train_list=[];ks_test_list=[];psi_list=[]\n",
    "\n",
    "for n in n_feats:\n",
    "    #准备数据\n",
    "    feat_model_gbdt=[i[0] for i in feat_important_sorted[:n]]\n",
    "    x_train_gbdt=train_data_gbdt[feat_model_gbdt];y_train_gbdt=train_data_gbdt['y']\n",
    "    x_test_gbdt=test_data_gbdt[feat_model_gbdt];y_test_gbdt=test_data_gbdt['y']\n",
    "    \n",
    "    ####################################################################################################\n",
    "    #badrate对离散无序变量编码，计算变量重要性；对重要性前n的离散变量（离散属性取值，而非badrate编码值）独热编码\n",
    "    var_need_encode=[i.replace('_br','') for i in feat_model_gbdt if i[-3:]=='_br']\n",
    "    #变量个数大于0存在需要独热编码的离散无序变量；等于0表示重要性前n的变量都为连续型，不用独热编码\n",
    "    if len(var_need_encode)>0:\n",
    "        feat_model_gbdt=[i for i in feat_model_gbdt if i[-3:]!='_br']#剩余连续变量\n",
    "        #独热编码：训练集离散无序变量\n",
    "        vect=DictVectorizer(sparse=False)\n",
    "        var_discrete_onehot_train=vect.fit_transform(train_data_gbdt[var_need_encode].to_dict(orient='records'))\n",
    "        x_train_gbdt=np.array(train_data_gbdt[feat_model_gbdt])\n",
    "        x_train_gbdt=np.hstack([x_train_gbdt,var_discrete_onehot_train])\n",
    "        #独热编码：测试集离散无序变量\n",
    "        var_discrete_onehot_test=vect.transform(test_data_gbdt[var_need_encode].to_dict(orient='records'))\n",
    "        x_test_gbdt=np.array(test_data_gbdt[feat_model_gbdt])\n",
    "        x_test_gbdt=np.hstack([x_test_gbdt,var_discrete_onehot_test])\n",
    "    ###################################################################################################\n",
    "    \n",
    "    #训练模型\n",
    "    gbdt_important=GradientBoostingClassifier()#RandomForestClassifier()#\n",
    "    gbdt_important.fit(x_train_gbdt,y_train_gbdt)\n",
    "    \n",
    "    #模型评价：训练集，auc、ks\n",
    "    proba_train_gbdt_important=gbdt_important.predict_proba(x_train_gbdt)[:,1]\n",
    "    auc_train_gbdt_important=roc_auc_score(y_train_gbdt,proba_train_gbdt_important)\n",
    "    ks_train_gbdt_important=distin_ks(y_train_gbdt,proba_train_gbdt_important)\n",
    "    #print('\\n重要性前 %s 特征，训练集，auc=%s，ks=%s'%(n,auc_train_gbdt_important,ks_train_gbdt_important))\n",
    "    \n",
    "    #模型评价：测试集，auc、ks\n",
    "    proba_test_gbdt_important=gbdt_important.predict_proba(x_test_gbdt)[:,1]\n",
    "    auc_test_gbdt_important=roc_auc_score(y_test_gbdt,proba_test_gbdt_important)\n",
    "    ks_test_gbdt_important=distin_ks(y_test_gbdt,proba_test_gbdt_important)\n",
    "    #print('重要性前 %s 特征，测试集，auc=%s，ks=%s'%(n,auc_test_gbdt_important,ks_test_gbdt_important))\n",
    "    \n",
    "    #模型评价：psi（train vs test）\n",
    "    psi_val=psi(y_train_gbdt,proba_train_gbdt_important,y_test_gbdt,proba_test_gbdt_important)\n",
    "    #print('重要性前 %s 特征，训练集vs测试集，psi=%s'%(n,psi_val))\n",
    "    \n",
    "    #记录变量重要性前n(n>=10)的模型评价指标\n",
    "    auc_train_list.append(auc_train_gbdt_important);auc_test_list.append(auc_test_gbdt_important);\n",
    "    ks_train_list.append(ks_train_gbdt_important);ks_test_list.append(ks_test_gbdt_important);\n",
    "    psi_list.append(psi_val)\n"
   ]
  },
  {
   "cell_type": "code",
   "execution_count": 42,
   "metadata": {
    "id": "A6BB0938D1944E3C8BBBDA1F0B9C6B6B"
   },
   "outputs": [
    {
     "data": {
      "text/html": [
       "<img src=\"https://cdn.kesci.com/rt_upload/A6BB0938D1944E3C8BBBDA1F0B9C6B6B/po2vu64136.png\">"
      ],
      "text/plain": [
       "<Figure size 1080x360 with 3 Axes>"
      ]
     },
     "metadata": {
      "needs_background": "light"
     },
     "output_type": "display_data"
    }
   ],
   "source": [
    "#图示重要性前n个特征的GBDT预测效果\n",
    "fig2158,ax2158=plt.subplots(1,3,figsize=(5*3,5*1))\n",
    "\n",
    "#AUC\n",
    "ax2158[0].plot(n_feats,auc_train_list,'k--o',label='train')\n",
    "ax2158[0].plot(n_feats,auc_test_list,'r--x',label='test')\n",
    "ax2158set0=ax2158[0].set(xticks=n_feats,xlabel='feat importance:front n',ylabel='AUC')\n",
    "ax2158[0].legend(loc='best')\n",
    "#AUC数据点注释\n",
    "for i in range(0,len(n_feats),2):\n",
    "    ax2158text00=ax2158[0].text(n_feats[i],auc_train_list[i]+0.005,round(auc_train_list[i],3),ha='center')\n",
    "    ax2158text01=ax2158[0].text(n_feats[i],auc_test_list[i]+0.005,round(auc_test_list[i],3),ha='center')\n",
    "\n",
    "#KS\n",
    "ax2158[1].plot(n_feats,ks_train_list,'k--o',label='train')\n",
    "ax2158[1].plot(n_feats,ks_test_list,'r--x',label='test')\n",
    "ax2158set1=ax2158[1].set(xticks=n_feats,xlabel='feat importance:front n',ylabel='KS')\n",
    "ax2158[1].legend(loc='best')\n",
    "#KS数据点注释\n",
    "for i in range(0,len(n_feats),2):\n",
    "    ax2158text10=ax2158[1].text(n_feats[i],ks_train_list[i]+0.005,round(ks_train_list[i],3),ha='center')\n",
    "    ax2158text11=ax2158[1].text(n_feats[i],ks_test_list[i]+0.005,round(ks_test_list[i],3),ha='center')\n",
    "\n",
    "#PSI\n",
    "ax2158[2].plot(n_feats,psi_list,'k--o')\n",
    "ax2158set2=ax2158[2].set(xticks=n_feats,xlabel='feat importance:front n',ylabel='psi（train vs test）')\n",
    "#PSI数据点注释\n",
    "for i in range(0,len(n_feats),2):\n",
    "    ax2158text2=ax2158[2].text(n_feats[i],psi_list[i]+0.001,round(psi_list[i],3),ha='center')\n",
    "    \n",
    "#调整子图布局\n",
    "plt.tight_layout()"
   ]
  }
 ],
 "metadata": {
  "kernelspec": {
   "display_name": "Python 3",
   "language": "python",
   "name": "python3"
  },
  "language_info": {
   "codemirror_mode": {
    "name": "ipython",
    "version": 3
   },
   "file_extension": ".py",
   "mimetype": "text/x-python",
   "name": "python",
   "nbconvert_exporter": "python",
   "pygments_lexer": "ipython3",
   "version": "3.7.6"
  }
 },
 "nbformat": 4,
 "nbformat_minor": 4
}
